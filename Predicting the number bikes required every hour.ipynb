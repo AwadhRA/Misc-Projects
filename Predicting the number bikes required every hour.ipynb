{
 "cells": [
  {
   "cell_type": "markdown",
   "metadata": {},
   "source": [
    "## Predicting number of bikes needed per hour\n",
    "\n",
    "### Awadh Ahmed\n",
    "\n",
    "###### Predicting number of bikes need on average with regression techniques using a dataset that contains weather information (Temperature, Humidity, Windspeed, Visibility, Dewpoint, Solar radiation, Snowfall, Rainfall)"
   ]
  },
  {
   "cell_type": "code",
   "execution_count": 1,
   "metadata": {},
   "outputs": [],
   "source": [
    "# importing our libraries\n",
    "\n",
    "import pandas as pd\n",
    "import matplotlib.pyplot as plt\n",
    "import numpy as np\n",
    "\n",
    "%matplotlib inline"
   ]
  },
  {
   "cell_type": "code",
   "execution_count": 2,
   "metadata": {},
   "outputs": [
    {
     "data": {
      "text/html": [
       "<div>\n",
       "<style scoped>\n",
       "    .dataframe tbody tr th:only-of-type {\n",
       "        vertical-align: middle;\n",
       "    }\n",
       "\n",
       "    .dataframe tbody tr th {\n",
       "        vertical-align: top;\n",
       "    }\n",
       "\n",
       "    .dataframe thead th {\n",
       "        text-align: right;\n",
       "    }\n",
       "</style>\n",
       "<table border=\"1\" class=\"dataframe\">\n",
       "  <thead>\n",
       "    <tr style=\"text-align: right;\">\n",
       "      <th></th>\n",
       "      <th>Rented Bike Count</th>\n",
       "      <th>Hour</th>\n",
       "      <th>Temperature(°C)</th>\n",
       "      <th>Humidity(%)</th>\n",
       "      <th>Wind speed (m/s)</th>\n",
       "      <th>Visibility (10m)</th>\n",
       "      <th>Dew point temperature(°C)</th>\n",
       "      <th>Solar Radiation (MJ/m2)</th>\n",
       "      <th>Rainfall(mm)</th>\n",
       "      <th>Snowfall (cm)</th>\n",
       "      <th>Seasons</th>\n",
       "      <th>Holiday</th>\n",
       "      <th>Functioning Day</th>\n",
       "    </tr>\n",
       "    <tr>\n",
       "      <th>Date</th>\n",
       "      <th></th>\n",
       "      <th></th>\n",
       "      <th></th>\n",
       "      <th></th>\n",
       "      <th></th>\n",
       "      <th></th>\n",
       "      <th></th>\n",
       "      <th></th>\n",
       "      <th></th>\n",
       "      <th></th>\n",
       "      <th></th>\n",
       "      <th></th>\n",
       "      <th></th>\n",
       "    </tr>\n",
       "  </thead>\n",
       "  <tbody>\n",
       "    <tr>\n",
       "      <th>2017-01-12</th>\n",
       "      <td>254</td>\n",
       "      <td>0</td>\n",
       "      <td>-5.2</td>\n",
       "      <td>37</td>\n",
       "      <td>2.2</td>\n",
       "      <td>2000</td>\n",
       "      <td>-17.6</td>\n",
       "      <td>0.0</td>\n",
       "      <td>0.0</td>\n",
       "      <td>0.0</td>\n",
       "      <td>Winter</td>\n",
       "      <td>No Holiday</td>\n",
       "      <td>Yes</td>\n",
       "    </tr>\n",
       "    <tr>\n",
       "      <th>2017-01-12</th>\n",
       "      <td>204</td>\n",
       "      <td>1</td>\n",
       "      <td>-5.5</td>\n",
       "      <td>38</td>\n",
       "      <td>0.8</td>\n",
       "      <td>2000</td>\n",
       "      <td>-17.6</td>\n",
       "      <td>0.0</td>\n",
       "      <td>0.0</td>\n",
       "      <td>0.0</td>\n",
       "      <td>Winter</td>\n",
       "      <td>No Holiday</td>\n",
       "      <td>Yes</td>\n",
       "    </tr>\n",
       "    <tr>\n",
       "      <th>2017-01-12</th>\n",
       "      <td>173</td>\n",
       "      <td>2</td>\n",
       "      <td>-6.0</td>\n",
       "      <td>39</td>\n",
       "      <td>1.0</td>\n",
       "      <td>2000</td>\n",
       "      <td>-17.7</td>\n",
       "      <td>0.0</td>\n",
       "      <td>0.0</td>\n",
       "      <td>0.0</td>\n",
       "      <td>Winter</td>\n",
       "      <td>No Holiday</td>\n",
       "      <td>Yes</td>\n",
       "    </tr>\n",
       "    <tr>\n",
       "      <th>2017-01-12</th>\n",
       "      <td>107</td>\n",
       "      <td>3</td>\n",
       "      <td>-6.2</td>\n",
       "      <td>40</td>\n",
       "      <td>0.9</td>\n",
       "      <td>2000</td>\n",
       "      <td>-17.6</td>\n",
       "      <td>0.0</td>\n",
       "      <td>0.0</td>\n",
       "      <td>0.0</td>\n",
       "      <td>Winter</td>\n",
       "      <td>No Holiday</td>\n",
       "      <td>Yes</td>\n",
       "    </tr>\n",
       "    <tr>\n",
       "      <th>2017-01-12</th>\n",
       "      <td>78</td>\n",
       "      <td>4</td>\n",
       "      <td>-6.0</td>\n",
       "      <td>36</td>\n",
       "      <td>2.3</td>\n",
       "      <td>2000</td>\n",
       "      <td>-18.6</td>\n",
       "      <td>0.0</td>\n",
       "      <td>0.0</td>\n",
       "      <td>0.0</td>\n",
       "      <td>Winter</td>\n",
       "      <td>No Holiday</td>\n",
       "      <td>Yes</td>\n",
       "    </tr>\n",
       "  </tbody>\n",
       "</table>\n",
       "</div>"
      ],
      "text/plain": [
       "            Rented Bike Count  Hour  Temperature(°C)  Humidity(%)  \\\n",
       "Date                                                                \n",
       "2017-01-12                254     0             -5.2           37   \n",
       "2017-01-12                204     1             -5.5           38   \n",
       "2017-01-12                173     2             -6.0           39   \n",
       "2017-01-12                107     3             -6.2           40   \n",
       "2017-01-12                 78     4             -6.0           36   \n",
       "\n",
       "            Wind speed (m/s)  Visibility (10m)  Dew point temperature(°C)  \\\n",
       "Date                                                                        \n",
       "2017-01-12               2.2              2000                      -17.6   \n",
       "2017-01-12               0.8              2000                      -17.6   \n",
       "2017-01-12               1.0              2000                      -17.7   \n",
       "2017-01-12               0.9              2000                      -17.6   \n",
       "2017-01-12               2.3              2000                      -18.6   \n",
       "\n",
       "            Solar Radiation (MJ/m2)  Rainfall(mm)  Snowfall (cm) Seasons  \\\n",
       "Date                                                                       \n",
       "2017-01-12                      0.0           0.0            0.0  Winter   \n",
       "2017-01-12                      0.0           0.0            0.0  Winter   \n",
       "2017-01-12                      0.0           0.0            0.0  Winter   \n",
       "2017-01-12                      0.0           0.0            0.0  Winter   \n",
       "2017-01-12                      0.0           0.0            0.0  Winter   \n",
       "\n",
       "               Holiday Functioning Day  \n",
       "Date                                    \n",
       "2017-01-12  No Holiday             Yes  \n",
       "2017-01-12  No Holiday             Yes  \n",
       "2017-01-12  No Holiday             Yes  \n",
       "2017-01-12  No Holiday             Yes  \n",
       "2017-01-12  No Holiday             Yes  "
      ]
     },
     "execution_count": 2,
     "metadata": {},
     "output_type": "execute_result"
    }
   ],
   "source": [
    "# importing our dataset and changing our index to the date\n",
    "# df.head() as a sanity check\n",
    "\n",
    "df = pd.read_csv(\"DataSet - Seoul Bike Rental.csv\", encoding= 'unicode_escape')\n",
    "\n",
    "df.index = pd.to_datetime(df['Date'])\n",
    "df = df.drop(['Date'], axis = 1)\n",
    "\n",
    "df.head()"
   ]
  },
  {
   "cell_type": "code",
   "execution_count": 3,
   "metadata": {},
   "outputs": [
    {
     "data": {
      "text/plain": [
       "Rented Bike Count              int64\n",
       "Hour                           int64\n",
       "Temperature(°C)              float64\n",
       "Humidity(%)                    int64\n",
       "Wind speed (m/s)             float64\n",
       "Visibility (10m)               int64\n",
       "Dew point temperature(°C)    float64\n",
       "Solar Radiation (MJ/m2)      float64\n",
       "Rainfall(mm)                 float64\n",
       "Snowfall (cm)                float64\n",
       "Seasons                       object\n",
       "Holiday                       object\n",
       "Functioning Day               object\n",
       "dtype: object"
      ]
     },
     "metadata": {},
     "output_type": "display_data"
    },
    {
     "data": {
      "text/plain": [
       "Rented Bike Count            False\n",
       "Hour                         False\n",
       "Temperature(°C)              False\n",
       "Humidity(%)                  False\n",
       "Wind speed (m/s)             False\n",
       "Visibility (10m)             False\n",
       "Dew point temperature(°C)    False\n",
       "Solar Radiation (MJ/m2)      False\n",
       "Rainfall(mm)                 False\n",
       "Snowfall (cm)                False\n",
       "Seasons                      False\n",
       "Holiday                      False\n",
       "Functioning Day              False\n",
       "dtype: bool"
      ]
     },
     "metadata": {},
     "output_type": "display_data"
    }
   ],
   "source": [
    "# Checking the data types of our variables as well as if any null values exist\n",
    "\n",
    "display(df.dtypes)\n",
    "display(df.isna().any())"
   ]
  },
  {
   "cell_type": "code",
   "execution_count": 4,
   "metadata": {},
   "outputs": [
    {
     "data": {
      "image/png": "[encoded data removed]",
      "text/plain": [
       "<Figure size 432x288 with 1 Axes>"
      ]
     },
     "metadata": {
      "needs_background": "light"
     },
     "output_type": "display_data"
    }
   ],
   "source": [
    "# Plot looking at bike rentals every hour\n",
    "\n",
    "x = df['Hour']\n",
    "y = df['Rented Bike Count']\n",
    "\n",
    "plt.plot(x, y, 'o', color ='cadetblue')\n",
    "plt.title(\"Bikes Rented vs Hour\")\n",
    "plt.xlabel(\"Hour\")\n",
    "plt.ylabel(\"Bikes Rented\")\n",
    "\n",
    "plt.show()"
   ]
  },
  {
   "cell_type": "code",
   "execution_count": 5,
   "metadata": {},
   "outputs": [
    {
     "data": {
      "image/png": "[encoded data removed]",
      "text/plain": [
       "<Figure size 432x288 with 1 Axes>"
      ]
     },
     "metadata": {
      "needs_background": "light"
     },
     "output_type": "display_data"
    }
   ],
   "source": [
    "# Scatter plot looking at Bike Rentals by temperature\n",
    "\n",
    "x = df['Temperature(°C)']\n",
    "y = df['Rented Bike Count']\n",
    "\n",
    "plt.plot(x, y, 'o', color ='cadetblue')\n",
    "plt.title(\"Bikes Rented vs Temperature(°C)\")\n",
    "plt.xlabel(\"Temperature(°C)\")\n",
    "plt.ylabel(\"Bikes Rented\")\n",
    "\n",
    "plt.show()"
   ]
  },
  {
   "cell_type": "code",
   "execution_count": 6,
   "metadata": {},
   "outputs": [
    {
     "data": {
      "text/html": [
       "<div>\n",
       "<style scoped>\n",
       "    .dataframe tbody tr th:only-of-type {\n",
       "        vertical-align: middle;\n",
       "    }\n",
       "\n",
       "    .dataframe tbody tr th {\n",
       "        vertical-align: top;\n",
       "    }\n",
       "\n",
       "    .dataframe thead th {\n",
       "        text-align: right;\n",
       "    }\n",
       "</style>\n",
       "<table border=\"1\" class=\"dataframe\">\n",
       "  <thead>\n",
       "    <tr style=\"text-align: right;\">\n",
       "      <th></th>\n",
       "      <th>Rented Bike Count</th>\n",
       "      <th>Hour</th>\n",
       "      <th>Temperature(°C)</th>\n",
       "      <th>Humidity(%)</th>\n",
       "      <th>Wind speed (m/s)</th>\n",
       "      <th>Visibility (10m)</th>\n",
       "      <th>Dew point temperature(°C)</th>\n",
       "      <th>Solar Radiation (MJ/m2)</th>\n",
       "      <th>Rainfall(mm)</th>\n",
       "      <th>Snowfall (cm)</th>\n",
       "    </tr>\n",
       "  </thead>\n",
       "  <tbody>\n",
       "    <tr>\n",
       "      <th>Rented Bike Count</th>\n",
       "      <td>1.000000</td>\n",
       "      <td>0.410257</td>\n",
       "      <td>0.538558</td>\n",
       "      <td>-0.199780</td>\n",
       "      <td>0.121108</td>\n",
       "      <td>0.199280</td>\n",
       "      <td>0.379788</td>\n",
       "      <td>0.261837</td>\n",
       "      <td>-0.123074</td>\n",
       "      <td>-0.141804</td>\n",
       "    </tr>\n",
       "    <tr>\n",
       "      <th>Hour</th>\n",
       "      <td>0.410257</td>\n",
       "      <td>1.000000</td>\n",
       "      <td>0.124114</td>\n",
       "      <td>-0.241644</td>\n",
       "      <td>0.285197</td>\n",
       "      <td>0.098753</td>\n",
       "      <td>0.003054</td>\n",
       "      <td>0.145131</td>\n",
       "      <td>0.008715</td>\n",
       "      <td>-0.021516</td>\n",
       "    </tr>\n",
       "    <tr>\n",
       "      <th>Temperature(°C)</th>\n",
       "      <td>0.538558</td>\n",
       "      <td>0.124114</td>\n",
       "      <td>1.000000</td>\n",
       "      <td>0.159371</td>\n",
       "      <td>-0.036252</td>\n",
       "      <td>0.034794</td>\n",
       "      <td>0.912798</td>\n",
       "      <td>0.353505</td>\n",
       "      <td>0.050282</td>\n",
       "      <td>-0.218405</td>\n",
       "    </tr>\n",
       "    <tr>\n",
       "      <th>Humidity(%)</th>\n",
       "      <td>-0.199780</td>\n",
       "      <td>-0.241644</td>\n",
       "      <td>0.159371</td>\n",
       "      <td>1.000000</td>\n",
       "      <td>-0.336683</td>\n",
       "      <td>-0.543090</td>\n",
       "      <td>0.536894</td>\n",
       "      <td>-0.461919</td>\n",
       "      <td>0.236397</td>\n",
       "      <td>0.108183</td>\n",
       "    </tr>\n",
       "    <tr>\n",
       "      <th>Wind speed (m/s)</th>\n",
       "      <td>0.121108</td>\n",
       "      <td>0.285197</td>\n",
       "      <td>-0.036252</td>\n",
       "      <td>-0.336683</td>\n",
       "      <td>1.000000</td>\n",
       "      <td>0.171507</td>\n",
       "      <td>-0.176486</td>\n",
       "      <td>0.332274</td>\n",
       "      <td>-0.019674</td>\n",
       "      <td>-0.003554</td>\n",
       "    </tr>\n",
       "    <tr>\n",
       "      <th>Visibility (10m)</th>\n",
       "      <td>0.199280</td>\n",
       "      <td>0.098753</td>\n",
       "      <td>0.034794</td>\n",
       "      <td>-0.543090</td>\n",
       "      <td>0.171507</td>\n",
       "      <td>1.000000</td>\n",
       "      <td>-0.176630</td>\n",
       "      <td>0.149738</td>\n",
       "      <td>-0.167629</td>\n",
       "      <td>-0.121695</td>\n",
       "    </tr>\n",
       "    <tr>\n",
       "      <th>Dew point temperature(°C)</th>\n",
       "      <td>0.379788</td>\n",
       "      <td>0.003054</td>\n",
       "      <td>0.912798</td>\n",
       "      <td>0.536894</td>\n",
       "      <td>-0.176486</td>\n",
       "      <td>-0.176630</td>\n",
       "      <td>1.000000</td>\n",
       "      <td>0.094381</td>\n",
       "      <td>0.125597</td>\n",
       "      <td>-0.150887</td>\n",
       "    </tr>\n",
       "    <tr>\n",
       "      <th>Solar Radiation (MJ/m2)</th>\n",
       "      <td>0.261837</td>\n",
       "      <td>0.145131</td>\n",
       "      <td>0.353505</td>\n",
       "      <td>-0.461919</td>\n",
       "      <td>0.332274</td>\n",
       "      <td>0.149738</td>\n",
       "      <td>0.094381</td>\n",
       "      <td>1.000000</td>\n",
       "      <td>-0.074290</td>\n",
       "      <td>-0.072301</td>\n",
       "    </tr>\n",
       "    <tr>\n",
       "      <th>Rainfall(mm)</th>\n",
       "      <td>-0.123074</td>\n",
       "      <td>0.008715</td>\n",
       "      <td>0.050282</td>\n",
       "      <td>0.236397</td>\n",
       "      <td>-0.019674</td>\n",
       "      <td>-0.167629</td>\n",
       "      <td>0.125597</td>\n",
       "      <td>-0.074290</td>\n",
       "      <td>1.000000</td>\n",
       "      <td>0.008500</td>\n",
       "    </tr>\n",
       "    <tr>\n",
       "      <th>Snowfall (cm)</th>\n",
       "      <td>-0.141804</td>\n",
       "      <td>-0.021516</td>\n",
       "      <td>-0.218405</td>\n",
       "      <td>0.108183</td>\n",
       "      <td>-0.003554</td>\n",
       "      <td>-0.121695</td>\n",
       "      <td>-0.150887</td>\n",
       "      <td>-0.072301</td>\n",
       "      <td>0.008500</td>\n",
       "      <td>1.000000</td>\n",
       "    </tr>\n",
       "  </tbody>\n",
       "</table>\n",
       "</div>"
      ],
      "text/plain": [
       "                           Rented Bike Count      Hour  Temperature(°C)  \\\n",
       "Rented Bike Count                   1.000000  0.410257         0.538558   \n",
       "Hour                                0.410257  1.000000         0.124114   \n",
       "Temperature(°C)                     0.538558  0.124114         1.000000   \n",
       "Humidity(%)                        -0.199780 -0.241644         0.159371   \n",
       "Wind speed (m/s)                    0.121108  0.285197        -0.036252   \n",
       "Visibility (10m)                    0.199280  0.098753         0.034794   \n",
       "Dew point temperature(°C)           0.379788  0.003054         0.912798   \n",
       "Solar Radiation (MJ/m2)             0.261837  0.145131         0.353505   \n",
       "Rainfall(mm)                       -0.123074  0.008715         0.050282   \n",
       "Snowfall (cm)                      -0.141804 -0.021516        -0.218405   \n",
       "\n",
       "                           Humidity(%)  Wind speed (m/s)  Visibility (10m)  \\\n",
       "Rented Bike Count            -0.199780          0.121108          0.199280   \n",
       "Hour                         -0.241644          0.285197          0.098753   \n",
       "Temperature(°C)               0.159371         -0.036252          0.034794   \n",
       "Humidity(%)                   1.000000         -0.336683         -0.543090   \n",
       "Wind speed (m/s)             -0.336683          1.000000          0.171507   \n",
       "Visibility (10m)             -0.543090          0.171507          1.000000   \n",
       "Dew point temperature(°C)     0.536894         -0.176486         -0.176630   \n",
       "Solar Radiation (MJ/m2)      -0.461919          0.332274          0.149738   \n",
       "Rainfall(mm)                  0.236397         -0.019674         -0.167629   \n",
       "Snowfall (cm)                 0.108183         -0.003554         -0.121695   \n",
       "\n",
       "                           Dew point temperature(°C)  Solar Radiation (MJ/m2)  \\\n",
       "Rented Bike Count                           0.379788                 0.261837   \n",
       "Hour                                        0.003054                 0.145131   \n",
       "Temperature(°C)                             0.912798                 0.353505   \n",
       "Humidity(%)                                 0.536894                -0.461919   \n",
       "Wind speed (m/s)                           -0.176486                 0.332274   \n",
       "Visibility (10m)                           -0.176630                 0.149738   \n",
       "Dew point temperature(°C)                   1.000000                 0.094381   \n",
       "Solar Radiation (MJ/m2)                     0.094381                 1.000000   \n",
       "Rainfall(mm)                                0.125597                -0.074290   \n",
       "Snowfall (cm)                              -0.150887                -0.072301   \n",
       "\n",
       "                           Rainfall(mm)  Snowfall (cm)  \n",
       "Rented Bike Count             -0.123074      -0.141804  \n",
       "Hour                           0.008715      -0.021516  \n",
       "Temperature(°C)                0.050282      -0.218405  \n",
       "Humidity(%)                    0.236397       0.108183  \n",
       "Wind speed (m/s)              -0.019674      -0.003554  \n",
       "Visibility (10m)              -0.167629      -0.121695  \n",
       "Dew point temperature(°C)      0.125597      -0.150887  \n",
       "Solar Radiation (MJ/m2)       -0.074290      -0.072301  \n",
       "Rainfall(mm)                   1.000000       0.008500  \n",
       "Snowfall (cm)                  0.008500       1.000000  "
      ]
     },
     "execution_count": 6,
     "metadata": {},
     "output_type": "execute_result"
    }
   ],
   "source": [
    "# Correlation table that looks at the correlation of our variables to one another\n",
    "# Bikes rented has some correlation with temperature and a marginal correlation with hours/day & Dew point\n",
    "# No real correlations otherwise\n",
    "\n",
    "df.corr()"
   ]
  },
  {
   "cell_type": "code",
   "execution_count": 7,
   "metadata": {},
   "outputs": [],
   "source": [
    "# Creating our training and testing data sets.\n",
    "# Our dependant variable (y) is the rented bike count\n",
    "# Take our independant variables to be everything else.\n",
    "from sklearn.model_selection import train_test_split\n",
    "\n",
    "# define our input variable (X) & output variable.\n",
    "Y = df[['Rented Bike Count']]\n",
    "X = df[['Hour',\n",
    "        'Temperature(°C)',\n",
    "        'Humidity(%)',\n",
    "        'Wind speed (m/s)',\n",
    "        'Visibility (10m)',\n",
    "        'Solar Radiation (MJ/m2)',\n",
    "        'Rainfall(mm)',\n",
    "        'Snowfall (cm)']]\n",
    "\n",
    "\n",
    "# Split X and y into X_train, X_test, y_train, y_test\n",
    "# Using a train test split of 70-30\n",
    "X_train, X_test, y_train, y_test = train_test_split(X, Y, test_size=0.30, random_state=1)"
   ]
  },
  {
   "cell_type": "code",
   "execution_count": 8,
   "metadata": {},
   "outputs": [
    {
     "data": {
      "text/plain": [
       "LinearRegression(copy_X=True, fit_intercept=True, n_jobs=None, normalize=False)"
      ]
     },
     "execution_count": 8,
     "metadata": {},
     "output_type": "execute_result"
    }
   ],
   "source": [
    "# First model is our linear regression\n",
    "\n",
    "from sklearn.linear_model import LinearRegression\n",
    "\n",
    "# create a Linear Regression model object.\n",
    "lin_model = LinearRegression()\n",
    "# pass through the X_train & y_train data set.\n",
    "lin_model.fit(X_train, y_train)"
   ]
  },
  {
   "cell_type": "code",
   "execution_count": 9,
   "metadata": {},
   "outputs": [
    {
     "name": "stdout",
     "output_type": "stream",
     "text": [
      "The Coefficient for our model is 27.3\n",
      "The intercept for our model is 464.56\n"
     ]
    }
   ],
   "source": [
    "# Finding coefficient & intercept\n",
    "\n",
    "intercept = lin_model.intercept_[0]\n",
    "coefficient = lin_model.coef_[0][0]\n",
    "print(\"The Coefficient for our model is {:.4}\".format(coefficient))\n",
    "print(\"The intercept for our model is {:.5}\".format(intercept))"
   ]
  },
  {
   "cell_type": "code",
   "execution_count": 10,
   "metadata": {},
   "outputs": [
    {
     "data": {
      "text/plain": [
       "array([[714.00810075],\n",
       "       [838.5651469 ],\n",
       "       [684.68076503],\n",
       "       [711.07135986],\n",
       "       [  5.83732086]])"
      ]
     },
     "execution_count": 10,
     "metadata": {},
     "output_type": "execute_result"
    }
   ],
   "source": [
    "# Get multiple predictions.\n",
    "y_predict = lin_model.predict(X_test)\n",
    "# Show the first 5 predictions\n",
    "y_predict[:5]"
   ]
  },
  {
   "cell_type": "code",
   "execution_count": 11,
   "metadata": {},
   "outputs": [
    {
     "name": "stdout",
     "output_type": "stream",
     "text": [
      "R2: 0.47\n"
     ]
    }
   ],
   "source": [
    "# Finding the R2 of our linear model\n",
    "\n",
    "from sklearn.metrics import r2_score\n",
    "\n",
    "lin_r2 = r2_score(y_test, y_predict)\n",
    "print(\"R2: {:.2}\".format(lin_r2))"
   ]
  },
  {
   "cell_type": "code",
   "execution_count": 12,
   "metadata": {},
   "outputs": [
    {
     "data": {
      "text/plain": [
       "RidgeCV(alphas=array([ 0.1,  1. , 10. ]), cv=None, fit_intercept=True,\n",
       "        gcv_mode=None, normalize=False, scoring=None, store_cv_values=False)"
      ]
     },
     "execution_count": 12,
     "metadata": {},
     "output_type": "execute_result"
    }
   ],
   "source": [
    "# Creating a Ridge Regression model\n",
    "\n",
    "from sklearn.linear_model import RidgeCV\n",
    "\n",
    "# create a Ridge Regression model object.\n",
    "ridge_model = RidgeCV()\n",
    "# pass through the X_train & y_train data set.\n",
    "ridge_model.fit(X_train, y_train)"
   ]
  },
  {
   "cell_type": "code",
   "execution_count": 13,
   "metadata": {},
   "outputs": [
    {
     "name": "stdout",
     "output_type": "stream",
     "text": [
      "The Coefficient for our model is 27.3\n",
      "The intercept for our model is 463.9\n"
     ]
    }
   ],
   "source": [
    "# Finding the intercept and coefficient\n",
    "\n",
    "intercept = ridge_model.intercept_[0]\n",
    "coefficient = ridge_model.coef_[0][0]\n",
    "print(\"The Coefficient for our model is {:.4}\".format(coefficient))\n",
    "print(\"The intercept for our model is {:.5}\".format(intercept))"
   ]
  },
  {
   "cell_type": "code",
   "execution_count": 14,
   "metadata": {},
   "outputs": [
    {
     "data": {
      "text/plain": [
       "array([[714.22288775],\n",
       "       [838.76305551],\n",
       "       [685.07299041],\n",
       "       [711.08279661],\n",
       "       [  5.93579158]])"
      ]
     },
     "execution_count": 14,
     "metadata": {},
     "output_type": "execute_result"
    }
   ],
   "source": [
    "# Get multiple predictions.\n",
    "y_predict = ridge_model.predict(X_test)\n",
    "# Show the first 5 predictions\n",
    "y_predict[:5]"
   ]
  },
  {
   "cell_type": "code",
   "execution_count": 15,
   "metadata": {},
   "outputs": [
    {
     "name": "stdout",
     "output_type": "stream",
     "text": [
      "R2: 0.47\n"
     ]
    }
   ],
   "source": [
    "# Ridge regression R2\n",
    "\n",
    "ridge_r2 = r2_score(y_test, y_predict)\n",
    "print(\"R2: {:.2}\".format(ridge_r2))"
   ]
  },
  {
   "cell_type": "code",
   "execution_count": 16,
   "metadata": {},
   "outputs": [
    {
     "name": "stderr",
     "output_type": "stream",
     "text": [
      "D:\\Anaconda3\\lib\\site-packages\\sklearn\\linear_model\\coordinate_descent.py:1100: DataConversionWarning: A column-vector y was passed when a 1d array was expected. Please change the shape of y to (n_samples, ), for example using ravel().\n",
      "  y = column_or_1d(y, warn=True)\n"
     ]
    },
    {
     "data": {
      "text/plain": [
       "LassoCV(alphas=None, copy_X=True, cv=10, eps=0.001, fit_intercept=True,\n",
       "        max_iter=1000, n_alphas=100, n_jobs=None, normalize=False,\n",
       "        positive=False, precompute='auto', random_state=None,\n",
       "        selection='cyclic', tol=0.0001, verbose=False)"
      ]
     },
     "execution_count": 16,
     "metadata": {},
     "output_type": "execute_result"
    }
   ],
   "source": [
    "# Creating a lasso regression\n",
    "\n",
    "from sklearn.linear_model import LassoCV\n",
    "\n",
    "# create a Ridge Regression model object.\n",
    "lasso_model = LassoCV(cv=10)\n",
    "# pass through the X_train & y_train data set.\n",
    "lasso_model.fit(X_train, y_train)"
   ]
  },
  {
   "cell_type": "code",
   "execution_count": 21,
   "metadata": {},
   "outputs": [
    {
     "name": "stdout",
     "output_type": "stream",
     "text": [
      "The Coefficient for our model is 25.96\n",
      "The intercept for our model is 309.5\n"
     ]
    }
   ],
   "source": [
    "# Intercept and coefficient of our regression\n",
    "\n",
    "intercept = lasso_model.intercept_\n",
    "coefficient = lasso_model.coef_[0]\n",
    "print(\"The Coefficient for our model is {:.4}\".format(coefficient))\n",
    "print(\"The intercept for our model is {:.5}\".format(intercept))"
   ]
  },
  {
   "cell_type": "code",
   "execution_count": 18,
   "metadata": {},
   "outputs": [
    {
     "data": {
      "text/plain": [
       "array([750.56317408, 859.61547046, 755.72485073, 701.27109998,\n",
       "        40.63045469])"
      ]
     },
     "execution_count": 18,
     "metadata": {},
     "output_type": "execute_result"
    }
   ],
   "source": [
    "# Get multiple predictions.\n",
    "y_predict = lasso_model.predict(X_test)\n",
    "# Show the first 5 predictions\n",
    "y_predict[:5]"
   ]
  },
  {
   "cell_type": "code",
   "execution_count": 19,
   "metadata": {},
   "outputs": [
    {
     "name": "stdout",
     "output_type": "stream",
     "text": [
      "R2: 0.45\n"
     ]
    }
   ],
   "source": [
    "# R2 for lasso regression\n",
    "\n",
    "lasso_r2 = r2_score(y_test, y_predict)\n",
    "print(\"R2: {:.2}\".format(lasso_r2))"
   ]
  },
  {
   "cell_type": "markdown",
   "metadata": {},
   "source": [
    "### Conclusions:\n",
    "\n",
    "For our final model, we'll be using linear regression over ridge regression since it has the same R2 and no bias in the model"
   ]
  },
  {
   "cell_type": "code",
   "execution_count": 42,
   "metadata": {},
   "outputs": [
    {
     "data": {
      "text/html": [
       "<div>\n",
       "<style scoped>\n",
       "    .dataframe tbody tr th:only-of-type {\n",
       "        vertical-align: middle;\n",
       "    }\n",
       "\n",
       "    .dataframe tbody tr th {\n",
       "        vertical-align: top;\n",
       "    }\n",
       "\n",
       "    .dataframe thead th {\n",
       "        text-align: right;\n",
       "    }\n",
       "</style>\n",
       "<table border=\"1\" class=\"dataframe\">\n",
       "  <thead>\n",
       "    <tr style=\"text-align: right;\">\n",
       "      <th></th>\n",
       "      <th>Bikes Rented</th>\n",
       "    </tr>\n",
       "    <tr>\n",
       "      <th>Hour</th>\n",
       "      <th></th>\n",
       "    </tr>\n",
       "  </thead>\n",
       "  <tbody>\n",
       "    <tr>\n",
       "      <th>8</th>\n",
       "      <td>714.008101</td>\n",
       "    </tr>\n",
       "    <tr>\n",
       "      <th>9</th>\n",
       "      <td>838.565147</td>\n",
       "    </tr>\n",
       "    <tr>\n",
       "      <th>10</th>\n",
       "      <td>684.680765</td>\n",
       "    </tr>\n",
       "    <tr>\n",
       "      <th>7</th>\n",
       "      <td>711.071360</td>\n",
       "    </tr>\n",
       "    <tr>\n",
       "      <th>1</th>\n",
       "      <td>5.837321</td>\n",
       "    </tr>\n",
       "  </tbody>\n",
       "</table>\n",
       "</div>"
      ],
      "text/plain": [
       "      Bikes Rented\n",
       "Hour              \n",
       "8       714.008101\n",
       "9       838.565147\n",
       "10      684.680765\n",
       "7       711.071360\n",
       "1         5.837321"
      ]
     },
     "execution_count": 42,
     "metadata": {},
     "output_type": "execute_result"
    }
   ],
   "source": [
    "# Creating a new database called predictions\n",
    "# The dat bases consists of hours and the predicted bikes rented for that hour on a certain day\n",
    "\n",
    "predictions = pd.DataFrame(y_predict)\n",
    "predictions.index = X_test['Hour'].values\n",
    "predictions.rename(columns = {0:'Bikes Rented'}, inplace = True) \n",
    "predictions.index.name = 'Hour'\n",
    "\n",
    "predictions.head()"
   ]
  },
  {
   "cell_type": "code",
   "execution_count": 57,
   "metadata": {},
   "outputs": [
    {
     "data": {
      "text/html": [
       "<div>\n",
       "<style scoped>\n",
       "    .dataframe tbody tr th:only-of-type {\n",
       "        vertical-align: middle;\n",
       "    }\n",
       "\n",
       "    .dataframe tbody tr th {\n",
       "        vertical-align: top;\n",
       "    }\n",
       "\n",
       "    .dataframe thead th {\n",
       "        text-align: right;\n",
       "    }\n",
       "</style>\n",
       "<table border=\"1\" class=\"dataframe\">\n",
       "  <thead>\n",
       "    <tr style=\"text-align: right;\">\n",
       "      <th></th>\n",
       "      <th>Bikes Rented</th>\n",
       "    </tr>\n",
       "  </thead>\n",
       "  <tbody>\n",
       "    <tr>\n",
       "      <th>0</th>\n",
       "      <td>388</td>\n",
       "    </tr>\n",
       "    <tr>\n",
       "      <th>1</th>\n",
       "      <td>315</td>\n",
       "    </tr>\n",
       "    <tr>\n",
       "      <th>2</th>\n",
       "      <td>368</td>\n",
       "    </tr>\n",
       "    <tr>\n",
       "      <th>3</th>\n",
       "      <td>337</td>\n",
       "    </tr>\n",
       "    <tr>\n",
       "      <th>4</th>\n",
       "      <td>405</td>\n",
       "    </tr>\n",
       "    <tr>\n",
       "      <th>5</th>\n",
       "      <td>432</td>\n",
       "    </tr>\n",
       "    <tr>\n",
       "      <th>6</th>\n",
       "      <td>409</td>\n",
       "    </tr>\n",
       "    <tr>\n",
       "      <th>7</th>\n",
       "      <td>406</td>\n",
       "    </tr>\n",
       "    <tr>\n",
       "      <th>8</th>\n",
       "      <td>476</td>\n",
       "    </tr>\n",
       "    <tr>\n",
       "      <th>9</th>\n",
       "      <td>575</td>\n",
       "    </tr>\n",
       "    <tr>\n",
       "      <th>10</th>\n",
       "      <td>651</td>\n",
       "    </tr>\n",
       "    <tr>\n",
       "      <th>11</th>\n",
       "      <td>727</td>\n",
       "    </tr>\n",
       "    <tr>\n",
       "      <th>12</th>\n",
       "      <td>780</td>\n",
       "    </tr>\n",
       "    <tr>\n",
       "      <th>13</th>\n",
       "      <td>853</td>\n",
       "    </tr>\n",
       "    <tr>\n",
       "      <th>14</th>\n",
       "      <td>914</td>\n",
       "    </tr>\n",
       "    <tr>\n",
       "      <th>15</th>\n",
       "      <td>996</td>\n",
       "    </tr>\n",
       "    <tr>\n",
       "      <th>16</th>\n",
       "      <td>972</td>\n",
       "    </tr>\n",
       "    <tr>\n",
       "      <th>17</th>\n",
       "      <td>1027</td>\n",
       "    </tr>\n",
       "    <tr>\n",
       "      <th>18</th>\n",
       "      <td>1038</td>\n",
       "    </tr>\n",
       "    <tr>\n",
       "      <th>19</th>\n",
       "      <td>991</td>\n",
       "    </tr>\n",
       "    <tr>\n",
       "      <th>20</th>\n",
       "      <td>1015</td>\n",
       "    </tr>\n",
       "    <tr>\n",
       "      <th>21</th>\n",
       "      <td>945</td>\n",
       "    </tr>\n",
       "    <tr>\n",
       "      <th>22</th>\n",
       "      <td>989</td>\n",
       "    </tr>\n",
       "    <tr>\n",
       "      <th>23</th>\n",
       "      <td>995</td>\n",
       "    </tr>\n",
       "  </tbody>\n",
       "</table>\n",
       "</div>"
      ],
      "text/plain": [
       "    Bikes Rented\n",
       "0            388\n",
       "1            315\n",
       "2            368\n",
       "3            337\n",
       "4            405\n",
       "5            432\n",
       "6            409\n",
       "7            406\n",
       "8            476\n",
       "9            575\n",
       "10           651\n",
       "11           727\n",
       "12           780\n",
       "13           853\n",
       "14           914\n",
       "15           996\n",
       "16           972\n",
       "17          1027\n",
       "18          1038\n",
       "19           991\n",
       "20          1015\n",
       "21           945\n",
       "22           989\n",
       "23           995"
      ]
     },
     "execution_count": 57,
     "metadata": {},
     "output_type": "execute_result"
    }
   ],
   "source": [
    "# Averaging out the number of bikes rented per hour\n",
    "\n",
    "predictions.groupby('Hour', as_index=False).mean().astype(int)"
   ]
  }
 ],
 "metadata": {
  "kernelspec": {
   "display_name": "Python 3",
   "language": "python",
   "name": "python3"
  },
  "language_info": {
   "codemirror_mode": {
    "name": "ipython",
    "version": 3
   },
   "file_extension": ".py",
   "mimetype": "text/x-python",
   "name": "python",
   "nbconvert_exporter": "python",
   "pygments_lexer": "ipython3",
   "version": "3.7.3"
  }
 },
 "nbformat": 4,
 "nbformat_minor": 2
}
