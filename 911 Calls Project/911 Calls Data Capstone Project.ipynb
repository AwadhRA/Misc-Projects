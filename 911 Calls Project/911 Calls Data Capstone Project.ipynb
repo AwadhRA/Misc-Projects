{
 "cells": [
  {
   "cell_type": "markdown",
   "metadata": {},
   "source": [
    "# 911 Calls Capstone Project"
   ]
  },
  {
   "cell_type": "markdown",
   "metadata": {},
   "source": [
    "Analyzing some 911 call data from [Kaggle](https://www.kaggle.com/mchirico/montcoalert). The data contains the following fields:\n",
    "\n",
    "* lat : String variable, Latitude\n",
    "* lng: String variable, Longitude\n",
    "* desc: String variable, Description of the Emergency Call\n",
    "* zip: String variable, Zipcode\n",
    "* title: String variable, Title\n",
    "* timeStamp: String variable, YYYY-MM-DD HH:MM:SS\n",
    "* twp: String variable, Township\n",
    "* addr: String variable, Address\n",
    "* e: String variable, Dummy variable (always 1)"
   ]
  },
  {
   "cell_type": "markdown",
   "metadata": {},
   "source": [
    "## Data and Setup"
   ]
  },
  {
   "cell_type": "markdown",
   "metadata": {},
   "source": [
    "____\n",
    "** Import numpy and pandas **"
   ]
  },
  {
   "cell_type": "code",
   "execution_count": 1,
   "metadata": {},
   "outputs": [],
   "source": [
    "import numpy as np\n",
    "import pandas as pd"
   ]
  },
  {
   "cell_type": "markdown",
   "metadata": {},
   "source": [
    "** Import visualization libraries and set %matplotlib inline. **"
   ]
  },
  {
   "cell_type": "code",
   "execution_count": 20,
   "metadata": {},
   "outputs": [],
   "source": [
    "import seaborn as sns\n",
    "import matplotlib.pyplot as plt\n",
    "%matplotlib inline"
   ]
  },
  {
   "cell_type": "markdown",
   "metadata": {},
   "source": [
    "** Read in the csv file as a dataframe called df **"
   ]
  },
  {
   "cell_type": "code",
   "execution_count": 3,
   "metadata": {},
   "outputs": [],
   "source": [
    "df=pd.read_csv(\"911.csv\")"
   ]
  },
  {
   "cell_type": "markdown",
   "metadata": {},
   "source": [
    "** Check the info() of the df **"
   ]
  },
  {
   "cell_type": "code",
   "execution_count": 4,
   "metadata": {},
   "outputs": [
    {
     "name": "stdout",
     "output_type": "stream",
     "text": [
      "<class 'pandas.core.frame.DataFrame'>\n",
      "RangeIndex: 99492 entries, 0 to 99491\n",
      "Data columns (total 9 columns):\n",
      "lat          99492 non-null float64\n",
      "lng          99492 non-null float64\n",
      "desc         99492 non-null object\n",
      "zip          86637 non-null float64\n",
      "title        99492 non-null object\n",
      "timeStamp    99492 non-null object\n",
      "twp          99449 non-null object\n",
      "addr         98973 non-null object\n",
      "e            99492 non-null int64\n",
      "dtypes: float64(3), int64(1), object(5)\n",
      "memory usage: 6.8+ MB\n"
     ]
    }
   ],
   "source": [
    "df.info()"
   ]
  },
  {
   "cell_type": "markdown",
   "metadata": {},
   "source": [
    "** Check the head of df **"
   ]
  },
  {
   "cell_type": "code",
   "execution_count": 5,
   "metadata": {},
   "outputs": [
    {
     "data": {
      "text/html": [
       "<div>\n",
       "<style scoped>\n",
       "    .dataframe tbody tr th:only-of-type {\n",
       "        vertical-align: middle;\n",
       "    }\n",
       "\n",
       "    .dataframe tbody tr th {\n",
       "        vertical-align: top;\n",
       "    }\n",
       "\n",
       "    .dataframe thead th {\n",
       "        text-align: right;\n",
       "    }\n",
       "</style>\n",
       "<table border=\"1\" class=\"dataframe\">\n",
       "  <thead>\n",
       "    <tr style=\"text-align: right;\">\n",
       "      <th></th>\n",
       "      <th>lat</th>\n",
       "      <th>lng</th>\n",
       "      <th>desc</th>\n",
       "      <th>zip</th>\n",
       "      <th>title</th>\n",
       "      <th>timeStamp</th>\n",
       "      <th>twp</th>\n",
       "      <th>addr</th>\n",
       "      <th>e</th>\n",
       "    </tr>\n",
       "  </thead>\n",
       "  <tbody>\n",
       "    <tr>\n",
       "      <th>0</th>\n",
       "      <td>40.297876</td>\n",
       "      <td>-75.581294</td>\n",
       "      <td>REINDEER CT &amp; DEAD END;  NEW HANOVER; Station ...</td>\n",
       "      <td>19525.0</td>\n",
       "      <td>EMS: BACK PAINS/INJURY</td>\n",
       "      <td>2015-12-10 17:40:00</td>\n",
       "      <td>NEW HANOVER</td>\n",
       "      <td>REINDEER CT &amp; DEAD END</td>\n",
       "      <td>1</td>\n",
       "    </tr>\n",
       "    <tr>\n",
       "      <th>1</th>\n",
       "      <td>40.258061</td>\n",
       "      <td>-75.264680</td>\n",
       "      <td>BRIAR PATH &amp; WHITEMARSH LN;  HATFIELD TOWNSHIP...</td>\n",
       "      <td>19446.0</td>\n",
       "      <td>EMS: DIABETIC EMERGENCY</td>\n",
       "      <td>2015-12-10 17:40:00</td>\n",
       "      <td>HATFIELD TOWNSHIP</td>\n",
       "      <td>BRIAR PATH &amp; WHITEMARSH LN</td>\n",
       "      <td>1</td>\n",
       "    </tr>\n",
       "    <tr>\n",
       "      <th>2</th>\n",
       "      <td>40.121182</td>\n",
       "      <td>-75.351975</td>\n",
       "      <td>HAWS AVE; NORRISTOWN; 2015-12-10 @ 14:39:21-St...</td>\n",
       "      <td>19401.0</td>\n",
       "      <td>Fire: GAS-ODOR/LEAK</td>\n",
       "      <td>2015-12-10 17:40:00</td>\n",
       "      <td>NORRISTOWN</td>\n",
       "      <td>HAWS AVE</td>\n",
       "      <td>1</td>\n",
       "    </tr>\n",
       "    <tr>\n",
       "      <th>3</th>\n",
       "      <td>40.116153</td>\n",
       "      <td>-75.343513</td>\n",
       "      <td>AIRY ST &amp; SWEDE ST;  NORRISTOWN; Station 308A;...</td>\n",
       "      <td>19401.0</td>\n",
       "      <td>EMS: CARDIAC EMERGENCY</td>\n",
       "      <td>2015-12-10 17:40:01</td>\n",
       "      <td>NORRISTOWN</td>\n",
       "      <td>AIRY ST &amp; SWEDE ST</td>\n",
       "      <td>1</td>\n",
       "    </tr>\n",
       "    <tr>\n",
       "      <th>4</th>\n",
       "      <td>40.251492</td>\n",
       "      <td>-75.603350</td>\n",
       "      <td>CHERRYWOOD CT &amp; DEAD END;  LOWER POTTSGROVE; S...</td>\n",
       "      <td>NaN</td>\n",
       "      <td>EMS: DIZZINESS</td>\n",
       "      <td>2015-12-10 17:40:01</td>\n",
       "      <td>LOWER POTTSGROVE</td>\n",
       "      <td>CHERRYWOOD CT &amp; DEAD END</td>\n",
       "      <td>1</td>\n",
       "    </tr>\n",
       "  </tbody>\n",
       "</table>\n",
       "</div>"
      ],
      "text/plain": [
       "         lat        lng                                               desc  \\\n",
       "0  40.297876 -75.581294  REINDEER CT & DEAD END;  NEW HANOVER; Station ...   \n",
       "1  40.258061 -75.264680  BRIAR PATH & WHITEMARSH LN;  HATFIELD TOWNSHIP...   \n",
       "2  40.121182 -75.351975  HAWS AVE; NORRISTOWN; 2015-12-10 @ 14:39:21-St...   \n",
       "3  40.116153 -75.343513  AIRY ST & SWEDE ST;  NORRISTOWN; Station 308A;...   \n",
       "4  40.251492 -75.603350  CHERRYWOOD CT & DEAD END;  LOWER POTTSGROVE; S...   \n",
       "\n",
       "       zip                    title            timeStamp                twp  \\\n",
       "0  19525.0   EMS: BACK PAINS/INJURY  2015-12-10 17:40:00        NEW HANOVER   \n",
       "1  19446.0  EMS: DIABETIC EMERGENCY  2015-12-10 17:40:00  HATFIELD TOWNSHIP   \n",
       "2  19401.0      Fire: GAS-ODOR/LEAK  2015-12-10 17:40:00         NORRISTOWN   \n",
       "3  19401.0   EMS: CARDIAC EMERGENCY  2015-12-10 17:40:01         NORRISTOWN   \n",
       "4      NaN           EMS: DIZZINESS  2015-12-10 17:40:01   LOWER POTTSGROVE   \n",
       "\n",
       "                         addr  e  \n",
       "0      REINDEER CT & DEAD END  1  \n",
       "1  BRIAR PATH & WHITEMARSH LN  1  \n",
       "2                    HAWS AVE  1  \n",
       "3          AIRY ST & SWEDE ST  1  \n",
       "4    CHERRYWOOD CT & DEAD END  1  "
      ]
     },
     "execution_count": 5,
     "metadata": {},
     "output_type": "execute_result"
    }
   ],
   "source": [
    "df.head()"
   ]
  },
  {
   "cell_type": "markdown",
   "metadata": {},
   "source": [
    "Top 5 zipcodes for 911 calls"
   ]
  },
  {
   "cell_type": "code",
   "execution_count": 6,
   "metadata": {},
   "outputs": [
    {
     "data": {
      "text/plain": [
       "19401.0    6979\n",
       "19464.0    6643\n",
       "19403.0    4854\n",
       "19446.0    4748\n",
       "19406.0    3174\n",
       "Name: zip, dtype: int64"
      ]
     },
     "execution_count": 6,
     "metadata": {},
     "output_type": "execute_result"
    }
   ],
   "source": [
    "df['zip'].value_counts().head(5)"
   ]
  },
  {
   "cell_type": "markdown",
   "metadata": {},
   "source": [
    "Top 5 townships (twp) for 911 calls"
   ]
  },
  {
   "cell_type": "code",
   "execution_count": 7,
   "metadata": {},
   "outputs": [
    {
     "data": {
      "text/plain": [
       "LOWER MERION    8443\n",
       "ABINGTON        5977\n",
       "NORRISTOWN      5890\n",
       "UPPER MERION    5227\n",
       "CHELTENHAM      4575\n",
       "Name: twp, dtype: int64"
      ]
     },
     "execution_count": 7,
     "metadata": {},
     "output_type": "execute_result"
    }
   ],
   "source": [
    "df['twp'].value_counts().head(5)"
   ]
  },
  {
   "cell_type": "markdown",
   "metadata": {},
   "source": [
    "Number of unique title codes"
   ]
  },
  {
   "cell_type": "code",
   "execution_count": 8,
   "metadata": {},
   "outputs": [
    {
     "data": {
      "text/plain": [
       "110"
      ]
     },
     "execution_count": 8,
     "metadata": {},
     "output_type": "execute_result"
    }
   ],
   "source": [
    "df['title'].value_counts().count()"
   ]
  },
  {
   "cell_type": "markdown",
   "metadata": {},
   "source": [
    "## Creating new features"
   ]
  },
  {
   "cell_type": "markdown",
   "metadata": {},
   "source": [
    "Used a lambda expression to create a new column called \"Reason\" that contains a certain string value\n",
    "\n",
    "**For example, if the title column value is EMS: BACK PAINS/INJURY , the Reason column value would be EMS. **"
   ]
  },
  {
   "cell_type": "code",
   "execution_count": 9,
   "metadata": {},
   "outputs": [
    {
     "data": {
      "text/html": [
       "<div>\n",
       "<style scoped>\n",
       "    .dataframe tbody tr th:only-of-type {\n",
       "        vertical-align: middle;\n",
       "    }\n",
       "\n",
       "    .dataframe tbody tr th {\n",
       "        vertical-align: top;\n",
       "    }\n",
       "\n",
       "    .dataframe thead th {\n",
       "        text-align: right;\n",
       "    }\n",
       "</style>\n",
       "<table border=\"1\" class=\"dataframe\">\n",
       "  <thead>\n",
       "    <tr style=\"text-align: right;\">\n",
       "      <th></th>\n",
       "      <th>lat</th>\n",
       "      <th>lng</th>\n",
       "      <th>desc</th>\n",
       "      <th>zip</th>\n",
       "      <th>title</th>\n",
       "      <th>timeStamp</th>\n",
       "      <th>twp</th>\n",
       "      <th>addr</th>\n",
       "      <th>e</th>\n",
       "      <th>Reason</th>\n",
       "    </tr>\n",
       "  </thead>\n",
       "  <tbody>\n",
       "    <tr>\n",
       "      <th>0</th>\n",
       "      <td>40.297876</td>\n",
       "      <td>-75.581294</td>\n",
       "      <td>REINDEER CT &amp; DEAD END;  NEW HANOVER; Station ...</td>\n",
       "      <td>19525.0</td>\n",
       "      <td>EMS: BACK PAINS/INJURY</td>\n",
       "      <td>2015-12-10 17:40:00</td>\n",
       "      <td>NEW HANOVER</td>\n",
       "      <td>REINDEER CT &amp; DEAD END</td>\n",
       "      <td>1</td>\n",
       "      <td>EMS</td>\n",
       "    </tr>\n",
       "    <tr>\n",
       "      <th>1</th>\n",
       "      <td>40.258061</td>\n",
       "      <td>-75.264680</td>\n",
       "      <td>BRIAR PATH &amp; WHITEMARSH LN;  HATFIELD TOWNSHIP...</td>\n",
       "      <td>19446.0</td>\n",
       "      <td>EMS: DIABETIC EMERGENCY</td>\n",
       "      <td>2015-12-10 17:40:00</td>\n",
       "      <td>HATFIELD TOWNSHIP</td>\n",
       "      <td>BRIAR PATH &amp; WHITEMARSH LN</td>\n",
       "      <td>1</td>\n",
       "      <td>EMS</td>\n",
       "    </tr>\n",
       "    <tr>\n",
       "      <th>2</th>\n",
       "      <td>40.121182</td>\n",
       "      <td>-75.351975</td>\n",
       "      <td>HAWS AVE; NORRISTOWN; 2015-12-10 @ 14:39:21-St...</td>\n",
       "      <td>19401.0</td>\n",
       "      <td>Fire: GAS-ODOR/LEAK</td>\n",
       "      <td>2015-12-10 17:40:00</td>\n",
       "      <td>NORRISTOWN</td>\n",
       "      <td>HAWS AVE</td>\n",
       "      <td>1</td>\n",
       "      <td>Fire</td>\n",
       "    </tr>\n",
       "    <tr>\n",
       "      <th>3</th>\n",
       "      <td>40.116153</td>\n",
       "      <td>-75.343513</td>\n",
       "      <td>AIRY ST &amp; SWEDE ST;  NORRISTOWN; Station 308A;...</td>\n",
       "      <td>19401.0</td>\n",
       "      <td>EMS: CARDIAC EMERGENCY</td>\n",
       "      <td>2015-12-10 17:40:01</td>\n",
       "      <td>NORRISTOWN</td>\n",
       "      <td>AIRY ST &amp; SWEDE ST</td>\n",
       "      <td>1</td>\n",
       "      <td>EMS</td>\n",
       "    </tr>\n",
       "    <tr>\n",
       "      <th>4</th>\n",
       "      <td>40.251492</td>\n",
       "      <td>-75.603350</td>\n",
       "      <td>CHERRYWOOD CT &amp; DEAD END;  LOWER POTTSGROVE; S...</td>\n",
       "      <td>NaN</td>\n",
       "      <td>EMS: DIZZINESS</td>\n",
       "      <td>2015-12-10 17:40:01</td>\n",
       "      <td>LOWER POTTSGROVE</td>\n",
       "      <td>CHERRYWOOD CT &amp; DEAD END</td>\n",
       "      <td>1</td>\n",
       "      <td>EMS</td>\n",
       "    </tr>\n",
       "    <tr>\n",
       "      <th>5</th>\n",
       "      <td>40.253473</td>\n",
       "      <td>-75.283245</td>\n",
       "      <td>CANNON AVE &amp; W 9TH ST;  LANSDALE; Station 345;...</td>\n",
       "      <td>19446.0</td>\n",
       "      <td>EMS: HEAD INJURY</td>\n",
       "      <td>2015-12-10 17:40:01</td>\n",
       "      <td>LANSDALE</td>\n",
       "      <td>CANNON AVE &amp; W 9TH ST</td>\n",
       "      <td>1</td>\n",
       "      <td>EMS</td>\n",
       "    </tr>\n",
       "    <tr>\n",
       "      <th>6</th>\n",
       "      <td>40.182111</td>\n",
       "      <td>-75.127795</td>\n",
       "      <td>LAUREL AVE &amp; OAKDALE AVE;  HORSHAM; Station 35...</td>\n",
       "      <td>19044.0</td>\n",
       "      <td>EMS: NAUSEA/VOMITING</td>\n",
       "      <td>2015-12-10 17:40:01</td>\n",
       "      <td>HORSHAM</td>\n",
       "      <td>LAUREL AVE &amp; OAKDALE AVE</td>\n",
       "      <td>1</td>\n",
       "      <td>EMS</td>\n",
       "    </tr>\n",
       "    <tr>\n",
       "      <th>7</th>\n",
       "      <td>40.217286</td>\n",
       "      <td>-75.405182</td>\n",
       "      <td>COLLEGEVILLE RD &amp; LYWISKI RD;  SKIPPACK; Stati...</td>\n",
       "      <td>19426.0</td>\n",
       "      <td>EMS: RESPIRATORY EMERGENCY</td>\n",
       "      <td>2015-12-10 17:40:01</td>\n",
       "      <td>SKIPPACK</td>\n",
       "      <td>COLLEGEVILLE RD &amp; LYWISKI RD</td>\n",
       "      <td>1</td>\n",
       "      <td>EMS</td>\n",
       "    </tr>\n",
       "    <tr>\n",
       "      <th>8</th>\n",
       "      <td>40.289027</td>\n",
       "      <td>-75.399590</td>\n",
       "      <td>MAIN ST &amp; OLD SUMNEYTOWN PIKE;  LOWER SALFORD;...</td>\n",
       "      <td>19438.0</td>\n",
       "      <td>EMS: SYNCOPAL EPISODE</td>\n",
       "      <td>2015-12-10 17:40:01</td>\n",
       "      <td>LOWER SALFORD</td>\n",
       "      <td>MAIN ST &amp; OLD SUMNEYTOWN PIKE</td>\n",
       "      <td>1</td>\n",
       "      <td>EMS</td>\n",
       "    </tr>\n",
       "    <tr>\n",
       "      <th>9</th>\n",
       "      <td>40.102398</td>\n",
       "      <td>-75.291458</td>\n",
       "      <td>BLUEROUTE  &amp; RAMP I476 NB TO CHEMICAL RD; PLYM...</td>\n",
       "      <td>19462.0</td>\n",
       "      <td>Traffic: VEHICLE ACCIDENT -</td>\n",
       "      <td>2015-12-10 17:40:01</td>\n",
       "      <td>PLYMOUTH</td>\n",
       "      <td>BLUEROUTE  &amp; RAMP I476 NB TO CHEMICAL RD</td>\n",
       "      <td>1</td>\n",
       "      <td>Traffic</td>\n",
       "    </tr>\n",
       "    <tr>\n",
       "      <th>10</th>\n",
       "      <td>40.231990</td>\n",
       "      <td>-75.251891</td>\n",
       "      <td>RT202 PKWY &amp; KNAPP RD; MONTGOMERY; 2015-12-10 ...</td>\n",
       "      <td>NaN</td>\n",
       "      <td>Traffic: VEHICLE ACCIDENT -</td>\n",
       "      <td>2015-12-10 17:40:01</td>\n",
       "      <td>MONTGOMERY</td>\n",
       "      <td>RT202 PKWY &amp; KNAPP RD</td>\n",
       "      <td>1</td>\n",
       "      <td>Traffic</td>\n",
       "    </tr>\n",
       "    <tr>\n",
       "      <th>11</th>\n",
       "      <td>40.084161</td>\n",
       "      <td>-75.308386</td>\n",
       "      <td>BROOK RD &amp; COLWELL LN; PLYMOUTH; 2015-12-10 @ ...</td>\n",
       "      <td>19428.0</td>\n",
       "      <td>Traffic: VEHICLE ACCIDENT -</td>\n",
       "      <td>2015-12-10 17:40:02</td>\n",
       "      <td>PLYMOUTH</td>\n",
       "      <td>BROOK RD &amp; COLWELL LN</td>\n",
       "      <td>1</td>\n",
       "      <td>Traffic</td>\n",
       "    </tr>\n",
       "    <tr>\n",
       "      <th>12</th>\n",
       "      <td>40.174131</td>\n",
       "      <td>-75.098491</td>\n",
       "      <td>BYBERRY AVE &amp; S WARMINSTER RD; UPPER MORELAND;...</td>\n",
       "      <td>19040.0</td>\n",
       "      <td>Traffic: VEHICLE ACCIDENT -</td>\n",
       "      <td>2015-12-10 17:40:02</td>\n",
       "      <td>UPPER MORELAND</td>\n",
       "      <td>BYBERRY AVE &amp; S WARMINSTER RD</td>\n",
       "      <td>1</td>\n",
       "      <td>Traffic</td>\n",
       "    </tr>\n",
       "    <tr>\n",
       "      <th>13</th>\n",
       "      <td>40.062974</td>\n",
       "      <td>-75.135914</td>\n",
       "      <td>OLD YORK RD &amp; VALLEY RD; CHELTENHAM; 2015-12-1...</td>\n",
       "      <td>19027.0</td>\n",
       "      <td>Traffic: VEHICLE ACCIDENT -</td>\n",
       "      <td>2015-12-10 17:40:02</td>\n",
       "      <td>CHELTENHAM</td>\n",
       "      <td>OLD YORK RD &amp; VALLEY RD</td>\n",
       "      <td>1</td>\n",
       "      <td>Traffic</td>\n",
       "    </tr>\n",
       "    <tr>\n",
       "      <th>14</th>\n",
       "      <td>40.097222</td>\n",
       "      <td>-75.376195</td>\n",
       "      <td>SCHUYLKILL EXPY &amp; CROTON RD UNDERPASS; UPPER M...</td>\n",
       "      <td>NaN</td>\n",
       "      <td>Traffic: VEHICLE ACCIDENT -</td>\n",
       "      <td>2015-12-10 17:40:02</td>\n",
       "      <td>UPPER MERION</td>\n",
       "      <td>SCHUYLKILL EXPY &amp; CROTON RD UNDERPASS</td>\n",
       "      <td>1</td>\n",
       "      <td>Traffic</td>\n",
       "    </tr>\n",
       "    <tr>\n",
       "      <th>15</th>\n",
       "      <td>40.223778</td>\n",
       "      <td>-75.235399</td>\n",
       "      <td>STUMP RD &amp; WITCHWOOD DR; MONTGOMERY; 2015-12-1...</td>\n",
       "      <td>18936.0</td>\n",
       "      <td>Traffic: VEHICLE ACCIDENT -</td>\n",
       "      <td>2015-12-10 17:40:02</td>\n",
       "      <td>MONTGOMERY</td>\n",
       "      <td>STUMP RD &amp; WITCHWOOD DR</td>\n",
       "      <td>1</td>\n",
       "      <td>Traffic</td>\n",
       "    </tr>\n",
       "    <tr>\n",
       "      <th>16</th>\n",
       "      <td>40.243258</td>\n",
       "      <td>-75.286552</td>\n",
       "      <td>SUSQUEHANNA AVE &amp; W MAIN ST;  LANSDALE; Statio...</td>\n",
       "      <td>19446.0</td>\n",
       "      <td>EMS: RESPIRATORY EMERGENCY</td>\n",
       "      <td>2015-12-10 17:46:01</td>\n",
       "      <td>LANSDALE</td>\n",
       "      <td>SUSQUEHANNA AVE &amp; W MAIN ST</td>\n",
       "      <td>1</td>\n",
       "      <td>EMS</td>\n",
       "    </tr>\n",
       "    <tr>\n",
       "      <th>17</th>\n",
       "      <td>40.312181</td>\n",
       "      <td>-75.574260</td>\n",
       "      <td>CHARLOTTE ST &amp; MILES RD;  NEW HANOVER; Station...</td>\n",
       "      <td>19525.0</td>\n",
       "      <td>EMS: DIZZINESS</td>\n",
       "      <td>2015-12-10 17:47:01</td>\n",
       "      <td>NEW HANOVER</td>\n",
       "      <td>CHARLOTTE ST &amp; MILES RD</td>\n",
       "      <td>1</td>\n",
       "      <td>EMS</td>\n",
       "    </tr>\n",
       "    <tr>\n",
       "      <th>18</th>\n",
       "      <td>40.114239</td>\n",
       "      <td>-75.338508</td>\n",
       "      <td>PENN ST &amp; ARCH ST;  NORRISTOWN; Station 308A; ...</td>\n",
       "      <td>19401.0</td>\n",
       "      <td>EMS: VEHICLE ACCIDENT</td>\n",
       "      <td>2015-12-10 17:47:01</td>\n",
       "      <td>NORRISTOWN</td>\n",
       "      <td>PENN ST &amp; ARCH ST</td>\n",
       "      <td>1</td>\n",
       "      <td>EMS</td>\n",
       "    </tr>\n",
       "    <tr>\n",
       "      <th>19</th>\n",
       "      <td>40.209337</td>\n",
       "      <td>-75.135266</td>\n",
       "      <td>COUNTY LINE RD &amp; WILLOW DR; HORSHAM; 2015-12-1...</td>\n",
       "      <td>18974.0</td>\n",
       "      <td>Traffic: DISABLED VEHICLE -</td>\n",
       "      <td>2015-12-10 17:47:02</td>\n",
       "      <td>HORSHAM</td>\n",
       "      <td>COUNTY LINE RD &amp; WILLOW DR</td>\n",
       "      <td>1</td>\n",
       "      <td>Traffic</td>\n",
       "    </tr>\n",
       "    <tr>\n",
       "      <th>20</th>\n",
       "      <td>40.114239</td>\n",
       "      <td>-75.338508</td>\n",
       "      <td>PENN ST &amp; ARCH ST; NORRISTOWN; 2015-12-10 @ 17...</td>\n",
       "      <td>19401.0</td>\n",
       "      <td>Traffic: VEHICLE ACCIDENT -</td>\n",
       "      <td>2015-12-10 17:47:02</td>\n",
       "      <td>NORRISTOWN</td>\n",
       "      <td>PENN ST &amp; ARCH ST</td>\n",
       "      <td>1</td>\n",
       "      <td>Traffic</td>\n",
       "    </tr>\n",
       "    <tr>\n",
       "      <th>21</th>\n",
       "      <td>40.117948</td>\n",
       "      <td>-75.209848</td>\n",
       "      <td>CHURCH RD &amp; REDCOAT DR; WHITEMARSH; 2015-12-10...</td>\n",
       "      <td>19031.0</td>\n",
       "      <td>Traffic: DISABLED VEHICLE -</td>\n",
       "      <td>2015-12-10 17:57:02</td>\n",
       "      <td>WHITEMARSH</td>\n",
       "      <td>CHURCH RD &amp; REDCOAT DR</td>\n",
       "      <td>1</td>\n",
       "      <td>Traffic</td>\n",
       "    </tr>\n",
       "    <tr>\n",
       "      <th>22</th>\n",
       "      <td>40.199006</td>\n",
       "      <td>-75.300058</td>\n",
       "      <td>LILAC CT &amp; PRIMROSE DR; UPPER GWYNEDD; 2015-12...</td>\n",
       "      <td>19446.0</td>\n",
       "      <td>Fire: APPLIANCE FIRE</td>\n",
       "      <td>2015-12-10 18:02:01</td>\n",
       "      <td>UPPER GWYNEDD</td>\n",
       "      <td>LILAC CT &amp; PRIMROSE DR</td>\n",
       "      <td>1</td>\n",
       "      <td>Fire</td>\n",
       "    </tr>\n",
       "    <tr>\n",
       "      <th>23</th>\n",
       "      <td>40.143326</td>\n",
       "      <td>-75.422819</td>\n",
       "      <td>RT422  &amp; PAWLINGS RD OVERPASS; LOWER PROVIDENC...</td>\n",
       "      <td>NaN</td>\n",
       "      <td>Traffic: DISABLED VEHICLE -</td>\n",
       "      <td>2015-12-10 18:02:02</td>\n",
       "      <td>LOWER PROVIDENCE</td>\n",
       "      <td>RT422  &amp; PAWLINGS RD OVERPASS</td>\n",
       "      <td>1</td>\n",
       "      <td>Traffic</td>\n",
       "    </tr>\n",
       "    <tr>\n",
       "      <th>24</th>\n",
       "      <td>40.153268</td>\n",
       "      <td>-75.189558</td>\n",
       "      <td>SUMMIT AVE &amp; RT309 UNDERPASS; UPPER DUBLIN; 20...</td>\n",
       "      <td>NaN</td>\n",
       "      <td>Traffic: VEHICLE ACCIDENT -</td>\n",
       "      <td>2015-12-10 18:02:02</td>\n",
       "      <td>UPPER DUBLIN</td>\n",
       "      <td>SUMMIT AVE &amp; RT309 UNDERPASS</td>\n",
       "      <td>1</td>\n",
       "      <td>Traffic</td>\n",
       "    </tr>\n",
       "    <tr>\n",
       "      <th>25</th>\n",
       "      <td>40.133037</td>\n",
       "      <td>-75.408463</td>\n",
       "      <td>SHANNONDELL DR &amp; SHANNONDELL BLVD;  LOWER PROV...</td>\n",
       "      <td>19403.0</td>\n",
       "      <td>EMS: GENERAL WEAKNESS</td>\n",
       "      <td>2015-12-10 18:06:25</td>\n",
       "      <td>LOWER PROVIDENCE</td>\n",
       "      <td>SHANNONDELL DR &amp; SHANNONDELL BLVD</td>\n",
       "      <td>1</td>\n",
       "      <td>EMS</td>\n",
       "    </tr>\n",
       "    <tr>\n",
       "      <th>26</th>\n",
       "      <td>40.155283</td>\n",
       "      <td>-75.264230</td>\n",
       "      <td>PENLLYN BLUE BELL PIKE &amp; VILLAGE CIR;  WHITPAI...</td>\n",
       "      <td>19422.0</td>\n",
       "      <td>EMS: HEAD INJURY</td>\n",
       "      <td>2015-12-10 18:06:25</td>\n",
       "      <td>WHITPAIN</td>\n",
       "      <td>PENLLYN BLUE BELL PIKE &amp; VILLAGE CIR</td>\n",
       "      <td>1</td>\n",
       "      <td>EMS</td>\n",
       "    </tr>\n",
       "    <tr>\n",
       "      <th>27</th>\n",
       "      <td>40.028903</td>\n",
       "      <td>-75.351822</td>\n",
       "      <td>EDENTON PL &amp; DURHAM DR; DELAWARE COUNTY; 2015-...</td>\n",
       "      <td>19085.0</td>\n",
       "      <td>Fire: CARBON MONOXIDE DETECTOR</td>\n",
       "      <td>2015-12-10 18:06:25</td>\n",
       "      <td>DELAWARE COUNTY</td>\n",
       "      <td>EDENTON PL &amp; DURHAM DR</td>\n",
       "      <td>1</td>\n",
       "      <td>Fire</td>\n",
       "    </tr>\n",
       "    <tr>\n",
       "      <th>28</th>\n",
       "      <td>40.097222</td>\n",
       "      <td>-75.376195</td>\n",
       "      <td>SCHUYLKILL EXPY &amp; WEADLEY RD OVERPASS; UPPER M...</td>\n",
       "      <td>NaN</td>\n",
       "      <td>Traffic: VEHICLE ACCIDENT -</td>\n",
       "      <td>2015-12-10 18:06:26</td>\n",
       "      <td>UPPER MERION</td>\n",
       "      <td>SCHUYLKILL EXPY &amp; WEADLEY RD OVERPASS</td>\n",
       "      <td>1</td>\n",
       "      <td>Traffic</td>\n",
       "    </tr>\n",
       "    <tr>\n",
       "      <th>29</th>\n",
       "      <td>40.209337</td>\n",
       "      <td>-75.135266</td>\n",
       "      <td>COUNTY LINE RD &amp; WILLOW DR; HORSHAM; 2015-12-1...</td>\n",
       "      <td>18974.0</td>\n",
       "      <td>Traffic: DISABLED VEHICLE -</td>\n",
       "      <td>2015-12-10 18:11:01</td>\n",
       "      <td>HORSHAM</td>\n",
       "      <td>COUNTY LINE RD &amp; WILLOW DR</td>\n",
       "      <td>1</td>\n",
       "      <td>Traffic</td>\n",
       "    </tr>\n",
       "    <tr>\n",
       "      <th>...</th>\n",
       "      <td>...</td>\n",
       "      <td>...</td>\n",
       "      <td>...</td>\n",
       "      <td>...</td>\n",
       "      <td>...</td>\n",
       "      <td>...</td>\n",
       "      <td>...</td>\n",
       "      <td>...</td>\n",
       "      <td>...</td>\n",
       "      <td>...</td>\n",
       "    </tr>\n",
       "    <tr>\n",
       "      <th>99462</th>\n",
       "      <td>40.274137</td>\n",
       "      <td>-75.660469</td>\n",
       "      <td>UPLAND SQUARE DR &amp; SELL RD;  WEST POTTSGROVE; ...</td>\n",
       "      <td>19464.0</td>\n",
       "      <td>EMS: UNKNOWN MEDICAL EMERGENCY</td>\n",
       "      <td>2016-08-24 09:41:00</td>\n",
       "      <td>WEST POTTSGROVE</td>\n",
       "      <td>UPLAND SQUARE DR &amp; SELL RD</td>\n",
       "      <td>1</td>\n",
       "      <td>EMS</td>\n",
       "    </tr>\n",
       "    <tr>\n",
       "      <th>99463</th>\n",
       "      <td>40.254768</td>\n",
       "      <td>-75.660459</td>\n",
       "      <td>SHOEMAKER RD &amp; ROBINSON ST;  POTTSTOWN; Statio...</td>\n",
       "      <td>19464.0</td>\n",
       "      <td>EMS: UNKNOWN MEDICAL EMERGENCY</td>\n",
       "      <td>2016-08-24 09:42:00</td>\n",
       "      <td>POTTSTOWN</td>\n",
       "      <td>SHOEMAKER RD &amp; ROBINSON ST</td>\n",
       "      <td>1</td>\n",
       "      <td>EMS</td>\n",
       "    </tr>\n",
       "    <tr>\n",
       "      <th>99464</th>\n",
       "      <td>40.163730</td>\n",
       "      <td>-75.082753</td>\n",
       "      <td>KAREN LN &amp; BYBERRY RD;  UPPER MORELAND; Statio...</td>\n",
       "      <td>19040.0</td>\n",
       "      <td>EMS: FALL VICTIM</td>\n",
       "      <td>2016-08-24 09:51:06</td>\n",
       "      <td>UPPER MORELAND</td>\n",
       "      <td>KAREN LN &amp; BYBERRY RD</td>\n",
       "      <td>1</td>\n",
       "      <td>EMS</td>\n",
       "    </tr>\n",
       "    <tr>\n",
       "      <th>99465</th>\n",
       "      <td>40.114928</td>\n",
       "      <td>-75.340307</td>\n",
       "      <td>AIRY ST &amp; GREEN ST;  NORRISTOWN; Station 308A;...</td>\n",
       "      <td>19401.0</td>\n",
       "      <td>EMS: RESPIRATORY EMERGENCY</td>\n",
       "      <td>2016-08-24 09:56:13</td>\n",
       "      <td>NORRISTOWN</td>\n",
       "      <td>AIRY ST &amp; GREEN ST</td>\n",
       "      <td>1</td>\n",
       "      <td>EMS</td>\n",
       "    </tr>\n",
       "    <tr>\n",
       "      <th>99466</th>\n",
       "      <td>40.159820</td>\n",
       "      <td>-75.288436</td>\n",
       "      <td>WENTZ RD &amp; SILO CIR;  WHITPAIN; Station 385; 2...</td>\n",
       "      <td>19422.0</td>\n",
       "      <td>EMS: NAUSEA/VOMITING</td>\n",
       "      <td>2016-08-24 10:01:00</td>\n",
       "      <td>WHITPAIN</td>\n",
       "      <td>WENTZ RD &amp; SILO CIR</td>\n",
       "      <td>1</td>\n",
       "      <td>EMS</td>\n",
       "    </tr>\n",
       "    <tr>\n",
       "      <th>99467</th>\n",
       "      <td>40.255271</td>\n",
       "      <td>-75.340722</td>\n",
       "      <td>WOODS DR &amp; DETWILER RD;  TOWAMENCIN; Station 3...</td>\n",
       "      <td>19446.0</td>\n",
       "      <td>EMS: ALTERED MENTAL STATUS</td>\n",
       "      <td>2016-08-24 10:12:01</td>\n",
       "      <td>TOWAMENCIN</td>\n",
       "      <td>WOODS DR &amp; DETWILER RD</td>\n",
       "      <td>1</td>\n",
       "      <td>EMS</td>\n",
       "    </tr>\n",
       "    <tr>\n",
       "      <th>99468</th>\n",
       "      <td>40.088355</td>\n",
       "      <td>-75.382100</td>\n",
       "      <td>DEKALB PIKE &amp; ALLENDALE RD; UPPER MERION; 2016...</td>\n",
       "      <td>19406.0</td>\n",
       "      <td>Fire: FIRE ALARM</td>\n",
       "      <td>2016-08-24 10:12:01</td>\n",
       "      <td>UPPER MERION</td>\n",
       "      <td>DEKALB PIKE &amp; ALLENDALE RD</td>\n",
       "      <td>1</td>\n",
       "      <td>Fire</td>\n",
       "    </tr>\n",
       "    <tr>\n",
       "      <th>99469</th>\n",
       "      <td>40.123868</td>\n",
       "      <td>-75.341678</td>\n",
       "      <td>MARKLEY ST &amp; JAMES ST; NORRISTOWN; 2016-08-24 ...</td>\n",
       "      <td>19401.0</td>\n",
       "      <td>Fire: FIRE ALARM</td>\n",
       "      <td>2016-08-24 10:12:01</td>\n",
       "      <td>NORRISTOWN</td>\n",
       "      <td>MARKLEY ST &amp; JAMES ST</td>\n",
       "      <td>1</td>\n",
       "      <td>Fire</td>\n",
       "    </tr>\n",
       "    <tr>\n",
       "      <th>99470</th>\n",
       "      <td>40.185798</td>\n",
       "      <td>-75.536484</td>\n",
       "      <td>WALNUT ST &amp; S 5TH AVE;  ROYERSFORD; Station 32...</td>\n",
       "      <td>19468.0</td>\n",
       "      <td>EMS: ALTERED MENTAL STATUS</td>\n",
       "      <td>2016-08-24 10:17:01</td>\n",
       "      <td>ROYERSFORD</td>\n",
       "      <td>WALNUT ST &amp; S 5TH AVE</td>\n",
       "      <td>1</td>\n",
       "      <td>EMS</td>\n",
       "    </tr>\n",
       "    <tr>\n",
       "      <th>99471</th>\n",
       "      <td>40.000763</td>\n",
       "      <td>-75.279769</td>\n",
       "      <td>WYNNEWOOD RD &amp; W OLD WYNNEWOOD RD;  LOWER MERI...</td>\n",
       "      <td>19096.0</td>\n",
       "      <td>EMS: RESPIRATORY EMERGENCY</td>\n",
       "      <td>2016-08-24 10:17:01</td>\n",
       "      <td>LOWER MERION</td>\n",
       "      <td>WYNNEWOOD RD &amp; W OLD WYNNEWOOD RD</td>\n",
       "      <td>1</td>\n",
       "      <td>EMS</td>\n",
       "    </tr>\n",
       "    <tr>\n",
       "      <th>99472</th>\n",
       "      <td>40.129398</td>\n",
       "      <td>-75.332213</td>\n",
       "      <td>PINE ST &amp; W ROBERTS ST;  NORRISTOWN; Station 3...</td>\n",
       "      <td>19401.0</td>\n",
       "      <td>EMS: CARDIAC EMERGENCY</td>\n",
       "      <td>2016-08-24 10:22:00</td>\n",
       "      <td>NORRISTOWN</td>\n",
       "      <td>PINE ST &amp; W ROBERTS ST</td>\n",
       "      <td>1</td>\n",
       "      <td>EMS</td>\n",
       "    </tr>\n",
       "    <tr>\n",
       "      <th>99473</th>\n",
       "      <td>40.133533</td>\n",
       "      <td>-75.056460</td>\n",
       "      <td>BUCK RD &amp; WAVERLY LN;  BRYN ATHYN; Station 355...</td>\n",
       "      <td>19009.0</td>\n",
       "      <td>EMS: GENERAL WEAKNESS</td>\n",
       "      <td>2016-08-24 10:27:01</td>\n",
       "      <td>BRYN ATHYN</td>\n",
       "      <td>BUCK RD &amp; WAVERLY LN</td>\n",
       "      <td>1</td>\n",
       "      <td>EMS</td>\n",
       "    </tr>\n",
       "    <tr>\n",
       "      <th>99474</th>\n",
       "      <td>40.078678</td>\n",
       "      <td>-75.086943</td>\n",
       "      <td>HUNTINGDON PIKE &amp; FILLMORE ST;  ROCKLEDGE; Sta...</td>\n",
       "      <td>19046.0</td>\n",
       "      <td>EMS: SEIZURES</td>\n",
       "      <td>2016-08-24 10:27:01</td>\n",
       "      <td>ROCKLEDGE</td>\n",
       "      <td>HUNTINGDON PIKE &amp; FILLMORE ST</td>\n",
       "      <td>1</td>\n",
       "      <td>EMS</td>\n",
       "    </tr>\n",
       "    <tr>\n",
       "      <th>99475</th>\n",
       "      <td>40.133715</td>\n",
       "      <td>-75.229630</td>\n",
       "      <td>SHEAFF LN &amp; WHITEMARSH VALLEY RD; WHITEMARSH; ...</td>\n",
       "      <td>19034.0</td>\n",
       "      <td>Traffic: VEHICLE ACCIDENT -</td>\n",
       "      <td>2016-08-24 10:32:01</td>\n",
       "      <td>WHITEMARSH</td>\n",
       "      <td>SHEAFF LN &amp; WHITEMARSH VALLEY RD</td>\n",
       "      <td>1</td>\n",
       "      <td>Traffic</td>\n",
       "    </tr>\n",
       "    <tr>\n",
       "      <th>99476</th>\n",
       "      <td>40.257820</td>\n",
       "      <td>-75.624294</td>\n",
       "      <td>PARK DR &amp; N ADAMS ST;  POTTSTOWN; Station 329;...</td>\n",
       "      <td>19464.0</td>\n",
       "      <td>EMS: RESPIRATORY EMERGENCY</td>\n",
       "      <td>2016-08-24 10:47:00</td>\n",
       "      <td>POTTSTOWN</td>\n",
       "      <td>PARK DR &amp; N ADAMS ST</td>\n",
       "      <td>1</td>\n",
       "      <td>EMS</td>\n",
       "    </tr>\n",
       "    <tr>\n",
       "      <th>99477</th>\n",
       "      <td>40.095652</td>\n",
       "      <td>-75.244877</td>\n",
       "      <td>FOX HOUND DR &amp; MARBLE HL;  WHITEMARSH; Station...</td>\n",
       "      <td>19444.0</td>\n",
       "      <td>EMS: SUBJECT IN PAIN</td>\n",
       "      <td>2016-08-24 10:47:00</td>\n",
       "      <td>WHITEMARSH</td>\n",
       "      <td>FOX HOUND DR &amp; MARBLE HL</td>\n",
       "      <td>1</td>\n",
       "      <td>EMS</td>\n",
       "    </tr>\n",
       "    <tr>\n",
       "      <th>99478</th>\n",
       "      <td>40.100344</td>\n",
       "      <td>-75.293955</td>\n",
       "      <td>CHEMICAL RD &amp; GALLAGHER RD; PLYMOUTH; 2016-08-...</td>\n",
       "      <td>19462.0</td>\n",
       "      <td>Traffic: VEHICLE ACCIDENT -</td>\n",
       "      <td>2016-08-24 10:47:02</td>\n",
       "      <td>PLYMOUTH</td>\n",
       "      <td>CHEMICAL RD &amp; GALLAGHER RD</td>\n",
       "      <td>1</td>\n",
       "      <td>Traffic</td>\n",
       "    </tr>\n",
       "    <tr>\n",
       "      <th>99479</th>\n",
       "      <td>40.221227</td>\n",
       "      <td>-75.288737</td>\n",
       "      <td>SUMNEYTOWN PIKE &amp; RR OVERPASS;  UPPER GWYNEDD;...</td>\n",
       "      <td>NaN</td>\n",
       "      <td>EMS: CARDIAC EMERGENCY</td>\n",
       "      <td>2016-08-24 10:52:01</td>\n",
       "      <td>UPPER GWYNEDD</td>\n",
       "      <td>SUMNEYTOWN PIKE &amp; RR OVERPASS</td>\n",
       "      <td>1</td>\n",
       "      <td>EMS</td>\n",
       "    </tr>\n",
       "    <tr>\n",
       "      <th>99480</th>\n",
       "      <td>40.221227</td>\n",
       "      <td>-75.288737</td>\n",
       "      <td>SUMNEYTOWN PIKE &amp; RR OVERPASS;  UPPER GWYNEDD;...</td>\n",
       "      <td>NaN</td>\n",
       "      <td>EMS: DIABETIC EMERGENCY</td>\n",
       "      <td>2016-08-24 10:52:01</td>\n",
       "      <td>UPPER GWYNEDD</td>\n",
       "      <td>SUMNEYTOWN PIKE &amp; RR OVERPASS</td>\n",
       "      <td>1</td>\n",
       "      <td>EMS</td>\n",
       "    </tr>\n",
       "    <tr>\n",
       "      <th>99481</th>\n",
       "      <td>40.221227</td>\n",
       "      <td>-75.288737</td>\n",
       "      <td>SUMNEYTOWN PIKE &amp; RR OVERPASS;  UPPER GWYNEDD;...</td>\n",
       "      <td>NaN</td>\n",
       "      <td>EMS: DIZZINESS</td>\n",
       "      <td>2016-08-24 10:52:01</td>\n",
       "      <td>UPPER GWYNEDD</td>\n",
       "      <td>SUMNEYTOWN PIKE &amp; RR OVERPASS</td>\n",
       "      <td>1</td>\n",
       "      <td>EMS</td>\n",
       "    </tr>\n",
       "    <tr>\n",
       "      <th>99482</th>\n",
       "      <td>40.340072</td>\n",
       "      <td>-75.591709</td>\n",
       "      <td>RT100 SB &amp; E PHILADELPHIA AVE OVERPASS; DOUGLA...</td>\n",
       "      <td>NaN</td>\n",
       "      <td>Traffic: DISABLED VEHICLE -</td>\n",
       "      <td>2016-08-24 10:52:03</td>\n",
       "      <td>DOUGLASS</td>\n",
       "      <td>RT100 SB &amp; E PHILADELPHIA AVE OVERPASS</td>\n",
       "      <td>1</td>\n",
       "      <td>Traffic</td>\n",
       "    </tr>\n",
       "    <tr>\n",
       "      <th>99483</th>\n",
       "      <td>40.084465</td>\n",
       "      <td>-75.390173</td>\n",
       "      <td>DEKALB PIKE &amp; KING OF PRUSSIA RD;  UPPER MERIO...</td>\n",
       "      <td>19406.0</td>\n",
       "      <td>EMS: BACK PAINS/INJURY</td>\n",
       "      <td>2016-08-24 10:57:00</td>\n",
       "      <td>UPPER MERION</td>\n",
       "      <td>DEKALB PIKE &amp; KING OF PRUSSIA RD</td>\n",
       "      <td>1</td>\n",
       "      <td>EMS</td>\n",
       "    </tr>\n",
       "    <tr>\n",
       "      <th>99484</th>\n",
       "      <td>40.133037</td>\n",
       "      <td>-75.408463</td>\n",
       "      <td>SHANNONDELL DR &amp; SHANNONDELL BLVD; LOWER PROVI...</td>\n",
       "      <td>19403.0</td>\n",
       "      <td>Fire: FIRE ALARM</td>\n",
       "      <td>2016-08-24 10:57:00</td>\n",
       "      <td>LOWER PROVIDENCE</td>\n",
       "      <td>SHANNONDELL DR &amp; SHANNONDELL BLVD</td>\n",
       "      <td>1</td>\n",
       "      <td>Fire</td>\n",
       "    </tr>\n",
       "    <tr>\n",
       "      <th>99485</th>\n",
       "      <td>40.143601</td>\n",
       "      <td>-75.427877</td>\n",
       "      <td>EAGLEVILLE RD &amp; REDTAIL RD; LOWER PROVIDENCE; ...</td>\n",
       "      <td>19403.0</td>\n",
       "      <td>Traffic: DISABLED VEHICLE -</td>\n",
       "      <td>2016-08-24 10:57:01</td>\n",
       "      <td>LOWER PROVIDENCE</td>\n",
       "      <td>EAGLEVILLE RD &amp; REDTAIL RD</td>\n",
       "      <td>1</td>\n",
       "      <td>Traffic</td>\n",
       "    </tr>\n",
       "    <tr>\n",
       "      <th>99486</th>\n",
       "      <td>40.179225</td>\n",
       "      <td>-75.180572</td>\n",
       "      <td>WELSH RD &amp; NORRISTOWN RD; HORSHAM; 2016-08-24 ...</td>\n",
       "      <td>19044.0</td>\n",
       "      <td>Traffic: VEHICLE ACCIDENT -</td>\n",
       "      <td>2016-08-24 11:02:02</td>\n",
       "      <td>HORSHAM</td>\n",
       "      <td>WELSH RD &amp; NORRISTOWN RD</td>\n",
       "      <td>1</td>\n",
       "      <td>Traffic</td>\n",
       "    </tr>\n",
       "    <tr>\n",
       "      <th>99487</th>\n",
       "      <td>40.132869</td>\n",
       "      <td>-75.333515</td>\n",
       "      <td>MARKLEY ST &amp; W LOGAN ST; NORRISTOWN; 2016-08-2...</td>\n",
       "      <td>19401.0</td>\n",
       "      <td>Traffic: VEHICLE ACCIDENT -</td>\n",
       "      <td>2016-08-24 11:06:00</td>\n",
       "      <td>NORRISTOWN</td>\n",
       "      <td>MARKLEY ST &amp; W LOGAN ST</td>\n",
       "      <td>1</td>\n",
       "      <td>Traffic</td>\n",
       "    </tr>\n",
       "    <tr>\n",
       "      <th>99488</th>\n",
       "      <td>40.006974</td>\n",
       "      <td>-75.289080</td>\n",
       "      <td>LANCASTER AVE &amp; RITTENHOUSE PL; LOWER MERION; ...</td>\n",
       "      <td>19003.0</td>\n",
       "      <td>Traffic: VEHICLE ACCIDENT -</td>\n",
       "      <td>2016-08-24 11:07:02</td>\n",
       "      <td>LOWER MERION</td>\n",
       "      <td>LANCASTER AVE &amp; RITTENHOUSE PL</td>\n",
       "      <td>1</td>\n",
       "      <td>Traffic</td>\n",
       "    </tr>\n",
       "    <tr>\n",
       "      <th>99489</th>\n",
       "      <td>40.115429</td>\n",
       "      <td>-75.334679</td>\n",
       "      <td>CHESTNUT ST &amp; WALNUT ST;  NORRISTOWN; Station ...</td>\n",
       "      <td>19401.0</td>\n",
       "      <td>EMS: FALL VICTIM</td>\n",
       "      <td>2016-08-24 11:12:00</td>\n",
       "      <td>NORRISTOWN</td>\n",
       "      <td>CHESTNUT ST &amp; WALNUT ST</td>\n",
       "      <td>1</td>\n",
       "      <td>EMS</td>\n",
       "    </tr>\n",
       "    <tr>\n",
       "      <th>99490</th>\n",
       "      <td>40.186431</td>\n",
       "      <td>-75.192555</td>\n",
       "      <td>WELSH RD &amp; WEBSTER LN;  HORSHAM; Station 352; ...</td>\n",
       "      <td>19002.0</td>\n",
       "      <td>EMS: NAUSEA/VOMITING</td>\n",
       "      <td>2016-08-24 11:17:01</td>\n",
       "      <td>HORSHAM</td>\n",
       "      <td>WELSH RD &amp; WEBSTER LN</td>\n",
       "      <td>1</td>\n",
       "      <td>EMS</td>\n",
       "    </tr>\n",
       "    <tr>\n",
       "      <th>99491</th>\n",
       "      <td>40.207055</td>\n",
       "      <td>-75.317952</td>\n",
       "      <td>MORRIS RD &amp; S BROAD ST; UPPER GWYNEDD; 2016-08...</td>\n",
       "      <td>19446.0</td>\n",
       "      <td>Traffic: VEHICLE ACCIDENT -</td>\n",
       "      <td>2016-08-24 11:17:02</td>\n",
       "      <td>UPPER GWYNEDD</td>\n",
       "      <td>MORRIS RD &amp; S BROAD ST</td>\n",
       "      <td>1</td>\n",
       "      <td>Traffic</td>\n",
       "    </tr>\n",
       "  </tbody>\n",
       "</table>\n",
       "<p>99492 rows × 10 columns</p>\n",
       "</div>"
      ],
      "text/plain": [
       "             lat        lng  \\\n",
       "0      40.297876 -75.581294   \n",
       "1      40.258061 -75.264680   \n",
       "2      40.121182 -75.351975   \n",
       "3      40.116153 -75.343513   \n",
       "4      40.251492 -75.603350   \n",
       "5      40.253473 -75.283245   \n",
       "6      40.182111 -75.127795   \n",
       "7      40.217286 -75.405182   \n",
       "8      40.289027 -75.399590   \n",
       "9      40.102398 -75.291458   \n",
       "10     40.231990 -75.251891   \n",
       "11     40.084161 -75.308386   \n",
       "12     40.174131 -75.098491   \n",
       "13     40.062974 -75.135914   \n",
       "14     40.097222 -75.376195   \n",
       "15     40.223778 -75.235399   \n",
       "16     40.243258 -75.286552   \n",
       "17     40.312181 -75.574260   \n",
       "18     40.114239 -75.338508   \n",
       "19     40.209337 -75.135266   \n",
       "20     40.114239 -75.338508   \n",
       "21     40.117948 -75.209848   \n",
       "22     40.199006 -75.300058   \n",
       "23     40.143326 -75.422819   \n",
       "24     40.153268 -75.189558   \n",
       "25     40.133037 -75.408463   \n",
       "26     40.155283 -75.264230   \n",
       "27     40.028903 -75.351822   \n",
       "28     40.097222 -75.376195   \n",
       "29     40.209337 -75.135266   \n",
       "...          ...        ...   \n",
       "99462  40.274137 -75.660469   \n",
       "99463  40.254768 -75.660459   \n",
       "99464  40.163730 -75.082753   \n",
       "99465  40.114928 -75.340307   \n",
       "99466  40.159820 -75.288436   \n",
       "99467  40.255271 -75.340722   \n",
       "99468  40.088355 -75.382100   \n",
       "99469  40.123868 -75.341678   \n",
       "99470  40.185798 -75.536484   \n",
       "99471  40.000763 -75.279769   \n",
       "99472  40.129398 -75.332213   \n",
       "99473  40.133533 -75.056460   \n",
       "99474  40.078678 -75.086943   \n",
       "99475  40.133715 -75.229630   \n",
       "99476  40.257820 -75.624294   \n",
       "99477  40.095652 -75.244877   \n",
       "99478  40.100344 -75.293955   \n",
       "99479  40.221227 -75.288737   \n",
       "99480  40.221227 -75.288737   \n",
       "99481  40.221227 -75.288737   \n",
       "99482  40.340072 -75.591709   \n",
       "99483  40.084465 -75.390173   \n",
       "99484  40.133037 -75.408463   \n",
       "99485  40.143601 -75.427877   \n",
       "99486  40.179225 -75.180572   \n",
       "99487  40.132869 -75.333515   \n",
       "99488  40.006974 -75.289080   \n",
       "99489  40.115429 -75.334679   \n",
       "99490  40.186431 -75.192555   \n",
       "99491  40.207055 -75.317952   \n",
       "\n",
       "                                                    desc      zip  \\\n",
       "0      REINDEER CT & DEAD END;  NEW HANOVER; Station ...  19525.0   \n",
       "1      BRIAR PATH & WHITEMARSH LN;  HATFIELD TOWNSHIP...  19446.0   \n",
       "2      HAWS AVE; NORRISTOWN; 2015-12-10 @ 14:39:21-St...  19401.0   \n",
       "3      AIRY ST & SWEDE ST;  NORRISTOWN; Station 308A;...  19401.0   \n",
       "4      CHERRYWOOD CT & DEAD END;  LOWER POTTSGROVE; S...      NaN   \n",
       "5      CANNON AVE & W 9TH ST;  LANSDALE; Station 345;...  19446.0   \n",
       "6      LAUREL AVE & OAKDALE AVE;  HORSHAM; Station 35...  19044.0   \n",
       "7      COLLEGEVILLE RD & LYWISKI RD;  SKIPPACK; Stati...  19426.0   \n",
       "8      MAIN ST & OLD SUMNEYTOWN PIKE;  LOWER SALFORD;...  19438.0   \n",
       "9      BLUEROUTE  & RAMP I476 NB TO CHEMICAL RD; PLYM...  19462.0   \n",
       "10     RT202 PKWY & KNAPP RD; MONTGOMERY; 2015-12-10 ...      NaN   \n",
       "11     BROOK RD & COLWELL LN; PLYMOUTH; 2015-12-10 @ ...  19428.0   \n",
       "12     BYBERRY AVE & S WARMINSTER RD; UPPER MORELAND;...  19040.0   \n",
       "13     OLD YORK RD & VALLEY RD; CHELTENHAM; 2015-12-1...  19027.0   \n",
       "14     SCHUYLKILL EXPY & CROTON RD UNDERPASS; UPPER M...      NaN   \n",
       "15     STUMP RD & WITCHWOOD DR; MONTGOMERY; 2015-12-1...  18936.0   \n",
       "16     SUSQUEHANNA AVE & W MAIN ST;  LANSDALE; Statio...  19446.0   \n",
       "17     CHARLOTTE ST & MILES RD;  NEW HANOVER; Station...  19525.0   \n",
       "18     PENN ST & ARCH ST;  NORRISTOWN; Station 308A; ...  19401.0   \n",
       "19     COUNTY LINE RD & WILLOW DR; HORSHAM; 2015-12-1...  18974.0   \n",
       "20     PENN ST & ARCH ST; NORRISTOWN; 2015-12-10 @ 17...  19401.0   \n",
       "21     CHURCH RD & REDCOAT DR; WHITEMARSH; 2015-12-10...  19031.0   \n",
       "22     LILAC CT & PRIMROSE DR; UPPER GWYNEDD; 2015-12...  19446.0   \n",
       "23     RT422  & PAWLINGS RD OVERPASS; LOWER PROVIDENC...      NaN   \n",
       "24     SUMMIT AVE & RT309 UNDERPASS; UPPER DUBLIN; 20...      NaN   \n",
       "25     SHANNONDELL DR & SHANNONDELL BLVD;  LOWER PROV...  19403.0   \n",
       "26     PENLLYN BLUE BELL PIKE & VILLAGE CIR;  WHITPAI...  19422.0   \n",
       "27     EDENTON PL & DURHAM DR; DELAWARE COUNTY; 2015-...  19085.0   \n",
       "28     SCHUYLKILL EXPY & WEADLEY RD OVERPASS; UPPER M...      NaN   \n",
       "29     COUNTY LINE RD & WILLOW DR; HORSHAM; 2015-12-1...  18974.0   \n",
       "...                                                  ...      ...   \n",
       "99462  UPLAND SQUARE DR & SELL RD;  WEST POTTSGROVE; ...  19464.0   \n",
       "99463  SHOEMAKER RD & ROBINSON ST;  POTTSTOWN; Statio...  19464.0   \n",
       "99464  KAREN LN & BYBERRY RD;  UPPER MORELAND; Statio...  19040.0   \n",
       "99465  AIRY ST & GREEN ST;  NORRISTOWN; Station 308A;...  19401.0   \n",
       "99466  WENTZ RD & SILO CIR;  WHITPAIN; Station 385; 2...  19422.0   \n",
       "99467  WOODS DR & DETWILER RD;  TOWAMENCIN; Station 3...  19446.0   \n",
       "99468  DEKALB PIKE & ALLENDALE RD; UPPER MERION; 2016...  19406.0   \n",
       "99469  MARKLEY ST & JAMES ST; NORRISTOWN; 2016-08-24 ...  19401.0   \n",
       "99470  WALNUT ST & S 5TH AVE;  ROYERSFORD; Station 32...  19468.0   \n",
       "99471  WYNNEWOOD RD & W OLD WYNNEWOOD RD;  LOWER MERI...  19096.0   \n",
       "99472  PINE ST & W ROBERTS ST;  NORRISTOWN; Station 3...  19401.0   \n",
       "99473  BUCK RD & WAVERLY LN;  BRYN ATHYN; Station 355...  19009.0   \n",
       "99474  HUNTINGDON PIKE & FILLMORE ST;  ROCKLEDGE; Sta...  19046.0   \n",
       "99475  SHEAFF LN & WHITEMARSH VALLEY RD; WHITEMARSH; ...  19034.0   \n",
       "99476  PARK DR & N ADAMS ST;  POTTSTOWN; Station 329;...  19464.0   \n",
       "99477  FOX HOUND DR & MARBLE HL;  WHITEMARSH; Station...  19444.0   \n",
       "99478  CHEMICAL RD & GALLAGHER RD; PLYMOUTH; 2016-08-...  19462.0   \n",
       "99479  SUMNEYTOWN PIKE & RR OVERPASS;  UPPER GWYNEDD;...      NaN   \n",
       "99480  SUMNEYTOWN PIKE & RR OVERPASS;  UPPER GWYNEDD;...      NaN   \n",
       "99481  SUMNEYTOWN PIKE & RR OVERPASS;  UPPER GWYNEDD;...      NaN   \n",
       "99482  RT100 SB & E PHILADELPHIA AVE OVERPASS; DOUGLA...      NaN   \n",
       "99483  DEKALB PIKE & KING OF PRUSSIA RD;  UPPER MERIO...  19406.0   \n",
       "99484  SHANNONDELL DR & SHANNONDELL BLVD; LOWER PROVI...  19403.0   \n",
       "99485  EAGLEVILLE RD & REDTAIL RD; LOWER PROVIDENCE; ...  19403.0   \n",
       "99486  WELSH RD & NORRISTOWN RD; HORSHAM; 2016-08-24 ...  19044.0   \n",
       "99487  MARKLEY ST & W LOGAN ST; NORRISTOWN; 2016-08-2...  19401.0   \n",
       "99488  LANCASTER AVE & RITTENHOUSE PL; LOWER MERION; ...  19003.0   \n",
       "99489  CHESTNUT ST & WALNUT ST;  NORRISTOWN; Station ...  19401.0   \n",
       "99490  WELSH RD & WEBSTER LN;  HORSHAM; Station 352; ...  19002.0   \n",
       "99491  MORRIS RD & S BROAD ST; UPPER GWYNEDD; 2016-08...  19446.0   \n",
       "\n",
       "                                title            timeStamp                twp  \\\n",
       "0              EMS: BACK PAINS/INJURY  2015-12-10 17:40:00        NEW HANOVER   \n",
       "1             EMS: DIABETIC EMERGENCY  2015-12-10 17:40:00  HATFIELD TOWNSHIP   \n",
       "2                 Fire: GAS-ODOR/LEAK  2015-12-10 17:40:00         NORRISTOWN   \n",
       "3              EMS: CARDIAC EMERGENCY  2015-12-10 17:40:01         NORRISTOWN   \n",
       "4                      EMS: DIZZINESS  2015-12-10 17:40:01   LOWER POTTSGROVE   \n",
       "5                    EMS: HEAD INJURY  2015-12-10 17:40:01           LANSDALE   \n",
       "6                EMS: NAUSEA/VOMITING  2015-12-10 17:40:01            HORSHAM   \n",
       "7          EMS: RESPIRATORY EMERGENCY  2015-12-10 17:40:01           SKIPPACK   \n",
       "8               EMS: SYNCOPAL EPISODE  2015-12-10 17:40:01      LOWER SALFORD   \n",
       "9         Traffic: VEHICLE ACCIDENT -  2015-12-10 17:40:01           PLYMOUTH   \n",
       "10        Traffic: VEHICLE ACCIDENT -  2015-12-10 17:40:01         MONTGOMERY   \n",
       "11        Traffic: VEHICLE ACCIDENT -  2015-12-10 17:40:02           PLYMOUTH   \n",
       "12        Traffic: VEHICLE ACCIDENT -  2015-12-10 17:40:02     UPPER MORELAND   \n",
       "13        Traffic: VEHICLE ACCIDENT -  2015-12-10 17:40:02         CHELTENHAM   \n",
       "14        Traffic: VEHICLE ACCIDENT -  2015-12-10 17:40:02       UPPER MERION   \n",
       "15        Traffic: VEHICLE ACCIDENT -  2015-12-10 17:40:02         MONTGOMERY   \n",
       "16         EMS: RESPIRATORY EMERGENCY  2015-12-10 17:46:01           LANSDALE   \n",
       "17                     EMS: DIZZINESS  2015-12-10 17:47:01        NEW HANOVER   \n",
       "18              EMS: VEHICLE ACCIDENT  2015-12-10 17:47:01         NORRISTOWN   \n",
       "19        Traffic: DISABLED VEHICLE -  2015-12-10 17:47:02            HORSHAM   \n",
       "20        Traffic: VEHICLE ACCIDENT -  2015-12-10 17:47:02         NORRISTOWN   \n",
       "21        Traffic: DISABLED VEHICLE -  2015-12-10 17:57:02         WHITEMARSH   \n",
       "22               Fire: APPLIANCE FIRE  2015-12-10 18:02:01      UPPER GWYNEDD   \n",
       "23        Traffic: DISABLED VEHICLE -  2015-12-10 18:02:02   LOWER PROVIDENCE   \n",
       "24        Traffic: VEHICLE ACCIDENT -  2015-12-10 18:02:02       UPPER DUBLIN   \n",
       "25              EMS: GENERAL WEAKNESS  2015-12-10 18:06:25   LOWER PROVIDENCE   \n",
       "26                   EMS: HEAD INJURY  2015-12-10 18:06:25           WHITPAIN   \n",
       "27     Fire: CARBON MONOXIDE DETECTOR  2015-12-10 18:06:25    DELAWARE COUNTY   \n",
       "28        Traffic: VEHICLE ACCIDENT -  2015-12-10 18:06:26       UPPER MERION   \n",
       "29        Traffic: DISABLED VEHICLE -  2015-12-10 18:11:01            HORSHAM   \n",
       "...                               ...                  ...                ...   \n",
       "99462  EMS: UNKNOWN MEDICAL EMERGENCY  2016-08-24 09:41:00    WEST POTTSGROVE   \n",
       "99463  EMS: UNKNOWN MEDICAL EMERGENCY  2016-08-24 09:42:00          POTTSTOWN   \n",
       "99464                EMS: FALL VICTIM  2016-08-24 09:51:06     UPPER MORELAND   \n",
       "99465      EMS: RESPIRATORY EMERGENCY  2016-08-24 09:56:13         NORRISTOWN   \n",
       "99466            EMS: NAUSEA/VOMITING  2016-08-24 10:01:00           WHITPAIN   \n",
       "99467      EMS: ALTERED MENTAL STATUS  2016-08-24 10:12:01         TOWAMENCIN   \n",
       "99468                Fire: FIRE ALARM  2016-08-24 10:12:01       UPPER MERION   \n",
       "99469                Fire: FIRE ALARM  2016-08-24 10:12:01         NORRISTOWN   \n",
       "99470      EMS: ALTERED MENTAL STATUS  2016-08-24 10:17:01         ROYERSFORD   \n",
       "99471      EMS: RESPIRATORY EMERGENCY  2016-08-24 10:17:01       LOWER MERION   \n",
       "99472          EMS: CARDIAC EMERGENCY  2016-08-24 10:22:00         NORRISTOWN   \n",
       "99473           EMS: GENERAL WEAKNESS  2016-08-24 10:27:01         BRYN ATHYN   \n",
       "99474                   EMS: SEIZURES  2016-08-24 10:27:01          ROCKLEDGE   \n",
       "99475     Traffic: VEHICLE ACCIDENT -  2016-08-24 10:32:01         WHITEMARSH   \n",
       "99476      EMS: RESPIRATORY EMERGENCY  2016-08-24 10:47:00          POTTSTOWN   \n",
       "99477            EMS: SUBJECT IN PAIN  2016-08-24 10:47:00         WHITEMARSH   \n",
       "99478     Traffic: VEHICLE ACCIDENT -  2016-08-24 10:47:02           PLYMOUTH   \n",
       "99479          EMS: CARDIAC EMERGENCY  2016-08-24 10:52:01      UPPER GWYNEDD   \n",
       "99480         EMS: DIABETIC EMERGENCY  2016-08-24 10:52:01      UPPER GWYNEDD   \n",
       "99481                  EMS: DIZZINESS  2016-08-24 10:52:01      UPPER GWYNEDD   \n",
       "99482     Traffic: DISABLED VEHICLE -  2016-08-24 10:52:03           DOUGLASS   \n",
       "99483          EMS: BACK PAINS/INJURY  2016-08-24 10:57:00       UPPER MERION   \n",
       "99484                Fire: FIRE ALARM  2016-08-24 10:57:00   LOWER PROVIDENCE   \n",
       "99485     Traffic: DISABLED VEHICLE -  2016-08-24 10:57:01   LOWER PROVIDENCE   \n",
       "99486     Traffic: VEHICLE ACCIDENT -  2016-08-24 11:02:02            HORSHAM   \n",
       "99487     Traffic: VEHICLE ACCIDENT -  2016-08-24 11:06:00         NORRISTOWN   \n",
       "99488     Traffic: VEHICLE ACCIDENT -  2016-08-24 11:07:02       LOWER MERION   \n",
       "99489                EMS: FALL VICTIM  2016-08-24 11:12:00         NORRISTOWN   \n",
       "99490            EMS: NAUSEA/VOMITING  2016-08-24 11:17:01            HORSHAM   \n",
       "99491     Traffic: VEHICLE ACCIDENT -  2016-08-24 11:17:02      UPPER GWYNEDD   \n",
       "\n",
       "                                           addr  e   Reason  \n",
       "0                        REINDEER CT & DEAD END  1      EMS  \n",
       "1                    BRIAR PATH & WHITEMARSH LN  1      EMS  \n",
       "2                                      HAWS AVE  1     Fire  \n",
       "3                            AIRY ST & SWEDE ST  1      EMS  \n",
       "4                      CHERRYWOOD CT & DEAD END  1      EMS  \n",
       "5                         CANNON AVE & W 9TH ST  1      EMS  \n",
       "6                      LAUREL AVE & OAKDALE AVE  1      EMS  \n",
       "7                  COLLEGEVILLE RD & LYWISKI RD  1      EMS  \n",
       "8                 MAIN ST & OLD SUMNEYTOWN PIKE  1      EMS  \n",
       "9      BLUEROUTE  & RAMP I476 NB TO CHEMICAL RD  1  Traffic  \n",
       "10                        RT202 PKWY & KNAPP RD  1  Traffic  \n",
       "11                        BROOK RD & COLWELL LN  1  Traffic  \n",
       "12                BYBERRY AVE & S WARMINSTER RD  1  Traffic  \n",
       "13                      OLD YORK RD & VALLEY RD  1  Traffic  \n",
       "14        SCHUYLKILL EXPY & CROTON RD UNDERPASS  1  Traffic  \n",
       "15                      STUMP RD & WITCHWOOD DR  1  Traffic  \n",
       "16                  SUSQUEHANNA AVE & W MAIN ST  1      EMS  \n",
       "17                      CHARLOTTE ST & MILES RD  1      EMS  \n",
       "18                            PENN ST & ARCH ST  1      EMS  \n",
       "19                   COUNTY LINE RD & WILLOW DR  1  Traffic  \n",
       "20                            PENN ST & ARCH ST  1  Traffic  \n",
       "21                       CHURCH RD & REDCOAT DR  1  Traffic  \n",
       "22                       LILAC CT & PRIMROSE DR  1     Fire  \n",
       "23                RT422  & PAWLINGS RD OVERPASS  1  Traffic  \n",
       "24                 SUMMIT AVE & RT309 UNDERPASS  1  Traffic  \n",
       "25            SHANNONDELL DR & SHANNONDELL BLVD  1      EMS  \n",
       "26         PENLLYN BLUE BELL PIKE & VILLAGE CIR  1      EMS  \n",
       "27                       EDENTON PL & DURHAM DR  1     Fire  \n",
       "28        SCHUYLKILL EXPY & WEADLEY RD OVERPASS  1  Traffic  \n",
       "29                   COUNTY LINE RD & WILLOW DR  1  Traffic  \n",
       "...                                         ... ..      ...  \n",
       "99462                UPLAND SQUARE DR & SELL RD  1      EMS  \n",
       "99463                SHOEMAKER RD & ROBINSON ST  1      EMS  \n",
       "99464                     KAREN LN & BYBERRY RD  1      EMS  \n",
       "99465                        AIRY ST & GREEN ST  1      EMS  \n",
       "99466                       WENTZ RD & SILO CIR  1      EMS  \n",
       "99467                    WOODS DR & DETWILER RD  1      EMS  \n",
       "99468                DEKALB PIKE & ALLENDALE RD  1     Fire  \n",
       "99469                     MARKLEY ST & JAMES ST  1     Fire  \n",
       "99470                     WALNUT ST & S 5TH AVE  1      EMS  \n",
       "99471         WYNNEWOOD RD & W OLD WYNNEWOOD RD  1      EMS  \n",
       "99472                    PINE ST & W ROBERTS ST  1      EMS  \n",
       "99473                      BUCK RD & WAVERLY LN  1      EMS  \n",
       "99474             HUNTINGDON PIKE & FILLMORE ST  1      EMS  \n",
       "99475          SHEAFF LN & WHITEMARSH VALLEY RD  1  Traffic  \n",
       "99476                      PARK DR & N ADAMS ST  1      EMS  \n",
       "99477                  FOX HOUND DR & MARBLE HL  1      EMS  \n",
       "99478                CHEMICAL RD & GALLAGHER RD  1  Traffic  \n",
       "99479             SUMNEYTOWN PIKE & RR OVERPASS  1      EMS  \n",
       "99480             SUMNEYTOWN PIKE & RR OVERPASS  1      EMS  \n",
       "99481             SUMNEYTOWN PIKE & RR OVERPASS  1      EMS  \n",
       "99482    RT100 SB & E PHILADELPHIA AVE OVERPASS  1  Traffic  \n",
       "99483          DEKALB PIKE & KING OF PRUSSIA RD  1      EMS  \n",
       "99484         SHANNONDELL DR & SHANNONDELL BLVD  1     Fire  \n",
       "99485                EAGLEVILLE RD & REDTAIL RD  1  Traffic  \n",
       "99486                  WELSH RD & NORRISTOWN RD  1  Traffic  \n",
       "99487                   MARKLEY ST & W LOGAN ST  1  Traffic  \n",
       "99488            LANCASTER AVE & RITTENHOUSE PL  1  Traffic  \n",
       "99489                   CHESTNUT ST & WALNUT ST  1      EMS  \n",
       "99490                     WELSH RD & WEBSTER LN  1      EMS  \n",
       "99491                    MORRIS RD & S BROAD ST  1  Traffic  \n",
       "\n",
       "[99492 rows x 10 columns]"
      ]
     },
     "execution_count": 9,
     "metadata": {},
     "output_type": "execute_result"
    }
   ],
   "source": [
    "df['Reason']=df['title'].apply(lambda x: x.split(':')[0])\n",
    "df"
   ]
  },
  {
   "cell_type": "markdown",
   "metadata": {},
   "source": [
    "Most common Reason for a 911 call based off of this new column"
   ]
  },
  {
   "cell_type": "code",
   "execution_count": 10,
   "metadata": {},
   "outputs": [
    {
     "data": {
      "text/plain": [
       "EMS        48877\n",
       "Traffic    35695\n",
       "Fire       14920\n",
       "Name: Reason, dtype: int64"
      ]
     },
     "execution_count": 10,
     "metadata": {},
     "output_type": "execute_result"
    }
   ],
   "source": [
    "df['Reason'].value_counts()"
   ]
  },
  {
   "cell_type": "markdown",
   "metadata": {},
   "source": [
    "Seaborn to create a countplot of 911 calls by Reason."
   ]
  },
  {
   "cell_type": "code",
   "execution_count": 11,
   "metadata": {},
   "outputs": [
    {
     "data": {
      "image/png": "[encoded data removed]",
      "text/plain": [
       "<Figure size 432x288 with 1 Axes>"
      ]
     },
     "metadata": {},
     "output_type": "display_data"
    }
   ],
   "source": [
    "sns.set_style(\"darkgrid\")\n",
    "sns.countplot(x='Reason',data=df)\n",
    "sns.despine()"
   ]
  },
  {
   "cell_type": "markdown",
   "metadata": {},
   "source": [
    "Data type of the objects in the timeStamp column"
   ]
  },
  {
   "cell_type": "code",
   "execution_count": 12,
   "metadata": {},
   "outputs": [
    {
     "data": {
      "text/plain": [
       "str"
      ]
     },
     "execution_count": 12,
     "metadata": {},
     "output_type": "execute_result"
    }
   ],
   "source": [
    "type(df['timeStamp'].iloc[0])"
   ]
  },
  {
   "cell_type": "markdown",
   "metadata": {},
   "source": [
    "Used [pd.to_datetime](http://pandas.pydata.org/pandas-docs/stable/generated/pandas.to_datetime.html) to convert the column from strings to DateTime objects."
   ]
  },
  {
   "cell_type": "code",
   "execution_count": 13,
   "metadata": {},
   "outputs": [],
   "source": [
    "df['timeStamp']=pd.to_datetime(df['timeStamp'])"
   ]
  },
  {
   "cell_type": "markdown",
   "metadata": {},
   "source": [
    "usec .apply() to create 3 new columns called Hour, Month, and Day of Week"
   ]
  },
  {
   "cell_type": "code",
   "execution_count": 14,
   "metadata": {},
   "outputs": [],
   "source": [
    "df['Hour']=df['timeStamp'].apply(lambda time:time.hour)\n",
    "df['Month']=df['timeStamp'].apply(lambda time: time.month)\n",
    "df['Day of Week']=df['timeStamp'].apply(lambda time: time.dayofweek)"
   ]
  },
  {
   "cell_type": "markdown",
   "metadata": {},
   "source": [
    "Used the .map() with this dictionary to map the actual string names to the day of the week:"
   ]
  },
  {
   "cell_type": "code",
   "execution_count": 15,
   "metadata": {},
   "outputs": [],
   "source": [
    "dmap = {0:'Mon',1:'Tue',2:'Wed',3:'Thu',4:'Fri',5:'Sat',6:'Sun'}"
   ]
  },
  {
   "cell_type": "code",
   "execution_count": 16,
   "metadata": {},
   "outputs": [],
   "source": [
    "df['Day of Week']=df['Day of Week'].map(dmap)"
   ]
  },
  {
   "cell_type": "markdown",
   "metadata": {},
   "source": [
    "Used seaborn to create a countplot of the Day of Week column with the hue based off of the Reason column."
   ]
  },
  {
   "cell_type": "code",
   "execution_count": 26,
   "metadata": {},
   "outputs": [
    {
     "data": {
      "text/plain": [
       "<matplotlib.legend.Legend at 0x1a181da8748>"
      ]
     },
     "execution_count": 26,
     "metadata": {},
     "output_type": "execute_result"
    },
    {
     "data": {
      "image/png": "[encoded data removed]",
      "text/plain": [
       "<Figure size 432x288 with 1 Axes>"
      ]
     },
     "metadata": {
      "needs_background": "light"
     },
     "output_type": "display_data"
    }
   ],
   "source": [
    "sns.countplot(x='Day of Week',data=df, hue='Reason',palette='viridis')\n",
    "plt.legend(bbox_to_anchor=(1.05, 1), loc=2, borderaxespad=0.)"
   ]
  },
  {
   "cell_type": "markdown",
   "metadata": {},
   "source": [
    "same for Month"
   ]
  },
  {
   "cell_type": "code",
   "execution_count": 27,
   "metadata": {},
   "outputs": [
    {
     "data": {
      "text/plain": [
       "<matplotlib.legend.Legend at 0x1a181e6f550>"
      ]
     },
     "execution_count": 27,
     "metadata": {},
     "output_type": "execute_result"
    },
    {
     "data": {
      "image/png": "[encoded data removed]",
      "text/plain": [
       "<Figure size 432x288 with 1 Axes>"
      ]
     },
     "metadata": {
      "needs_background": "light"
     },
     "output_type": "display_data"
    }
   ],
   "source": [
    "sns.countplot(x='Month',data=df, hue='Reason',palette='viridis')\n",
    "plt.legend(bbox_to_anchor=(1.05, 1), loc=2, borderaxespad=0.)"
   ]
  },
  {
   "cell_type": "markdown",
   "metadata": {},
   "source": [
    "Created a groupby object called byMonth, where you group the DataFrame by the month column and use the count() method for aggregation."
   ]
  },
  {
   "cell_type": "code",
   "execution_count": 31,
   "metadata": {},
   "outputs": [
    {
     "data": {
      "text/html": [
       "<div>\n",
       "<style scoped>\n",
       "    .dataframe tbody tr th:only-of-type {\n",
       "        vertical-align: middle;\n",
       "    }\n",
       "\n",
       "    .dataframe tbody tr th {\n",
       "        vertical-align: top;\n",
       "    }\n",
       "\n",
       "    .dataframe thead th {\n",
       "        text-align: right;\n",
       "    }\n",
       "</style>\n",
       "<table border=\"1\" class=\"dataframe\">\n",
       "  <thead>\n",
       "    <tr style=\"text-align: right;\">\n",
       "      <th></th>\n",
       "      <th>lat</th>\n",
       "      <th>lng</th>\n",
       "      <th>desc</th>\n",
       "      <th>zip</th>\n",
       "      <th>title</th>\n",
       "      <th>timeStamp</th>\n",
       "      <th>twp</th>\n",
       "      <th>addr</th>\n",
       "      <th>e</th>\n",
       "      <th>Reason</th>\n",
       "      <th>Hour</th>\n",
       "      <th>Day of Week</th>\n",
       "    </tr>\n",
       "    <tr>\n",
       "      <th>Month</th>\n",
       "      <th></th>\n",
       "      <th></th>\n",
       "      <th></th>\n",
       "      <th></th>\n",
       "      <th></th>\n",
       "      <th></th>\n",
       "      <th></th>\n",
       "      <th></th>\n",
       "      <th></th>\n",
       "      <th></th>\n",
       "      <th></th>\n",
       "      <th></th>\n",
       "    </tr>\n",
       "  </thead>\n",
       "  <tbody>\n",
       "    <tr>\n",
       "      <th>1</th>\n",
       "      <td>13205</td>\n",
       "      <td>13205</td>\n",
       "      <td>13205</td>\n",
       "      <td>11527</td>\n",
       "      <td>13205</td>\n",
       "      <td>13205</td>\n",
       "      <td>13203</td>\n",
       "      <td>13096</td>\n",
       "      <td>13205</td>\n",
       "      <td>13205</td>\n",
       "      <td>13205</td>\n",
       "      <td>13205</td>\n",
       "    </tr>\n",
       "    <tr>\n",
       "      <th>2</th>\n",
       "      <td>11467</td>\n",
       "      <td>11467</td>\n",
       "      <td>11467</td>\n",
       "      <td>9930</td>\n",
       "      <td>11467</td>\n",
       "      <td>11467</td>\n",
       "      <td>11465</td>\n",
       "      <td>11396</td>\n",
       "      <td>11467</td>\n",
       "      <td>11467</td>\n",
       "      <td>11467</td>\n",
       "      <td>11467</td>\n",
       "    </tr>\n",
       "    <tr>\n",
       "      <th>3</th>\n",
       "      <td>11101</td>\n",
       "      <td>11101</td>\n",
       "      <td>11101</td>\n",
       "      <td>9755</td>\n",
       "      <td>11101</td>\n",
       "      <td>11101</td>\n",
       "      <td>11092</td>\n",
       "      <td>11059</td>\n",
       "      <td>11101</td>\n",
       "      <td>11101</td>\n",
       "      <td>11101</td>\n",
       "      <td>11101</td>\n",
       "    </tr>\n",
       "    <tr>\n",
       "      <th>4</th>\n",
       "      <td>11326</td>\n",
       "      <td>11326</td>\n",
       "      <td>11326</td>\n",
       "      <td>9895</td>\n",
       "      <td>11326</td>\n",
       "      <td>11326</td>\n",
       "      <td>11323</td>\n",
       "      <td>11283</td>\n",
       "      <td>11326</td>\n",
       "      <td>11326</td>\n",
       "      <td>11326</td>\n",
       "      <td>11326</td>\n",
       "    </tr>\n",
       "    <tr>\n",
       "      <th>5</th>\n",
       "      <td>11423</td>\n",
       "      <td>11423</td>\n",
       "      <td>11423</td>\n",
       "      <td>9946</td>\n",
       "      <td>11423</td>\n",
       "      <td>11423</td>\n",
       "      <td>11420</td>\n",
       "      <td>11378</td>\n",
       "      <td>11423</td>\n",
       "      <td>11423</td>\n",
       "      <td>11423</td>\n",
       "      <td>11423</td>\n",
       "    </tr>\n",
       "  </tbody>\n",
       "</table>\n",
       "</div>"
      ],
      "text/plain": [
       "         lat    lng   desc    zip  title  timeStamp    twp   addr      e  \\\n",
       "Month                                                                      \n",
       "1      13205  13205  13205  11527  13205      13205  13203  13096  13205   \n",
       "2      11467  11467  11467   9930  11467      11467  11465  11396  11467   \n",
       "3      11101  11101  11101   9755  11101      11101  11092  11059  11101   \n",
       "4      11326  11326  11326   9895  11326      11326  11323  11283  11326   \n",
       "5      11423  11423  11423   9946  11423      11423  11420  11378  11423   \n",
       "\n",
       "       Reason   Hour  Day of Week  \n",
       "Month                              \n",
       "1       13205  13205        13205  \n",
       "2       11467  11467        11467  \n",
       "3       11101  11101        11101  \n",
       "4       11326  11326        11326  \n",
       "5       11423  11423        11423  "
      ]
     },
     "execution_count": 31,
     "metadata": {},
     "output_type": "execute_result"
    }
   ],
   "source": [
    "byMonth=df.groupby('Month').count()\n",
    "byMonth.head()"
   ]
  },
  {
   "cell_type": "markdown",
   "metadata": {},
   "source": [
    "Created a simple plot off of the dataframe indicating the count of calls per month."
   ]
  },
  {
   "cell_type": "code",
   "execution_count": 36,
   "metadata": {},
   "outputs": [
    {
     "data": {
      "text/plain": [
       "<matplotlib.axes._subplots.AxesSubplot at 0x1a1817ecdd8>"
      ]
     },
     "execution_count": 36,
     "metadata": {},
     "output_type": "execute_result"
    },
    {
     "data": {
      "image/png": "[encoded data removed]",
      "text/plain": [
       "<Figure size 432x288 with 1 Axes>"
      ]
     },
     "metadata": {
      "needs_background": "light"
     },
     "output_type": "display_data"
    }
   ],
   "source": [
    "byMonth['twp'].plot()"
   ]
  },
  {
   "cell_type": "markdown",
   "metadata": {},
   "source": [
    "Used seaborn's lmplot() to create a linear fit on the number of calls per month."
   ]
  },
  {
   "cell_type": "code",
   "execution_count": 42,
   "metadata": {},
   "outputs": [
    {
     "data": {
      "text/plain": [
       "<seaborn.axisgrid.FacetGrid at 0x1a181b6c780>"
      ]
     },
     "execution_count": 42,
     "metadata": {},
     "output_type": "execute_result"
    },
    {
     "data": {
      "image/png": "[encoded data removed]",
      "text/plain": [
       "<Figure size 360x360 with 1 Axes>"
      ]
     },
     "metadata": {
      "needs_background": "light"
     },
     "output_type": "display_data"
    }
   ],
   "source": [
    "sns.lmplot(x='Month',y='twp',data=byMonth.reset_index())"
   ]
  },
  {
   "cell_type": "markdown",
   "metadata": {},
   "source": [
    "Created a new column called 'Date' that contains the date from the timeStamp column."
   ]
  },
  {
   "cell_type": "code",
   "execution_count": 43,
   "metadata": {},
   "outputs": [],
   "source": [
    "df['Date']=df['timeStamp'].apply(lambda dte: dte.date())"
   ]
  },
  {
   "cell_type": "markdown",
   "metadata": {},
   "source": [
    "Used groupby on Date column with the count() aggregate and create a plot of counts of 911 calls."
   ]
  },
  {
   "cell_type": "code",
   "execution_count": 46,
   "metadata": {},
   "outputs": [
    {
     "data": {
      "image/png": "[encoded data removed]",
      "text/plain": [
       "<Figure size 432x288 with 1 Axes>"
      ]
     },
     "metadata": {
      "needs_background": "light"
     },
     "output_type": "display_data"
    }
   ],
   "source": [
    "byDate=df.groupby('Date').count()\n",
    "byDate['twp'].plot()\n",
    "plt.tight_layout()"
   ]
  },
  {
   "cell_type": "markdown",
   "metadata": {},
   "source": [
    "Recreated this plot with 3 separate plots with each plot representing a Reason for the 911 call."
   ]
  },
  {
   "cell_type": "code",
   "execution_count": 51,
   "metadata": {},
   "outputs": [
    {
     "data": {
      "text/plain": [
       "Text(0.5, 1, 'Traffic')"
      ]
     },
     "execution_count": 51,
     "metadata": {},
     "output_type": "execute_result"
    },
    {
     "data": {
      "image/png": "[encoded data removed]",
      "text/plain": [
       "<Figure size 432x288 with 1 Axes>"
      ]
     },
     "metadata": {
      "needs_background": "light"
     },
     "output_type": "display_data"
    }
   ],
   "source": [
    "df[df['Reason']=='Traffic'].groupby('Date').count()['twp'].plot()\n",
    "plt.tight_layout()\n",
    "plt.title(\"Traffic\")"
   ]
  },
  {
   "cell_type": "code",
   "execution_count": 53,
   "metadata": {},
   "outputs": [
    {
     "data": {
      "text/plain": [
       "Text(0.5, 1, 'Fire')"
      ]
     },
     "execution_count": 53,
     "metadata": {},
     "output_type": "execute_result"
    },
    {
     "data": {
      "image/png": "[encoded data removed]",
      "text/plain": [
       "<Figure size 432x288 with 1 Axes>"
      ]
     },
     "metadata": {
      "needs_background": "light"
     },
     "output_type": "display_data"
    }
   ],
   "source": [
    "df[df[\"Reason\"]=='Fire'].groupby('Date').count()['twp'].plot()\n",
    "plt.tight_layout()\n",
    "plt.title(\"Fire\")"
   ]
  },
  {
   "cell_type": "code",
   "execution_count": 55,
   "metadata": {},
   "outputs": [
    {
     "data": {
      "text/plain": [
       "Text(0.5, 1, 'Fire')"
      ]
     },
     "execution_count": 55,
     "metadata": {},
     "output_type": "execute_result"
    },
    {
     "data": {
      "image/png": "[encoded data removed]",
      "text/plain": [
       "<Figure size 432x288 with 1 Axes>"
      ]
     },
     "metadata": {
      "needs_background": "light"
     },
     "output_type": "display_data"
    }
   ],
   "source": [
    "df[df[\"Reason\"]=='EMS'].groupby('Date').count()['twp'].plot()\n",
    "plt.tight_layout()\n",
    "plt.title(\"Fire\")"
   ]
  },
  {
   "cell_type": "markdown",
   "metadata": {},
   "source": [
    "Creating  heatmaps with seaborn and our data. Restructure the dataframe so that the columns become the Hours and the Index becomes the Day of the Week using [unstack](http://pandas.pydata.org/pandas-docs/stable/generated/pandas.DataFrame.unstack.html) method."
   ]
  },
  {
   "cell_type": "code",
   "execution_count": 61,
   "metadata": {},
   "outputs": [
    {
     "data": {
      "text/html": [
       "<div>\n",
       "<style scoped>\n",
       "    .dataframe tbody tr th:only-of-type {\n",
       "        vertical-align: middle;\n",
       "    }\n",
       "\n",
       "    .dataframe tbody tr th {\n",
       "        vertical-align: top;\n",
       "    }\n",
       "\n",
       "    .dataframe thead th {\n",
       "        text-align: right;\n",
       "    }\n",
       "</style>\n",
       "<table border=\"1\" class=\"dataframe\">\n",
       "  <thead>\n",
       "    <tr style=\"text-align: right;\">\n",
       "      <th>Hour</th>\n",
       "      <th>0</th>\n",
       "      <th>1</th>\n",
       "      <th>2</th>\n",
       "      <th>3</th>\n",
       "      <th>4</th>\n",
       "      <th>5</th>\n",
       "      <th>6</th>\n",
       "      <th>7</th>\n",
       "      <th>8</th>\n",
       "      <th>9</th>\n",
       "      <th>...</th>\n",
       "      <th>14</th>\n",
       "      <th>15</th>\n",
       "      <th>16</th>\n",
       "      <th>17</th>\n",
       "      <th>18</th>\n",
       "      <th>19</th>\n",
       "      <th>20</th>\n",
       "      <th>21</th>\n",
       "      <th>22</th>\n",
       "      <th>23</th>\n",
       "    </tr>\n",
       "    <tr>\n",
       "      <th>Day of Week</th>\n",
       "      <th></th>\n",
       "      <th></th>\n",
       "      <th></th>\n",
       "      <th></th>\n",
       "      <th></th>\n",
       "      <th></th>\n",
       "      <th></th>\n",
       "      <th></th>\n",
       "      <th></th>\n",
       "      <th></th>\n",
       "      <th></th>\n",
       "      <th></th>\n",
       "      <th></th>\n",
       "      <th></th>\n",
       "      <th></th>\n",
       "      <th></th>\n",
       "      <th></th>\n",
       "      <th></th>\n",
       "      <th></th>\n",
       "      <th></th>\n",
       "      <th></th>\n",
       "    </tr>\n",
       "  </thead>\n",
       "  <tbody>\n",
       "    <tr>\n",
       "      <th>Fri</th>\n",
       "      <td>275</td>\n",
       "      <td>235</td>\n",
       "      <td>191</td>\n",
       "      <td>175</td>\n",
       "      <td>201</td>\n",
       "      <td>194</td>\n",
       "      <td>372</td>\n",
       "      <td>598</td>\n",
       "      <td>742</td>\n",
       "      <td>752</td>\n",
       "      <td>...</td>\n",
       "      <td>932</td>\n",
       "      <td>980</td>\n",
       "      <td>1039</td>\n",
       "      <td>980</td>\n",
       "      <td>820</td>\n",
       "      <td>696</td>\n",
       "      <td>667</td>\n",
       "      <td>559</td>\n",
       "      <td>514</td>\n",
       "      <td>474</td>\n",
       "    </tr>\n",
       "    <tr>\n",
       "      <th>Mon</th>\n",
       "      <td>282</td>\n",
       "      <td>221</td>\n",
       "      <td>201</td>\n",
       "      <td>194</td>\n",
       "      <td>204</td>\n",
       "      <td>267</td>\n",
       "      <td>397</td>\n",
       "      <td>653</td>\n",
       "      <td>819</td>\n",
       "      <td>786</td>\n",
       "      <td>...</td>\n",
       "      <td>869</td>\n",
       "      <td>913</td>\n",
       "      <td>989</td>\n",
       "      <td>997</td>\n",
       "      <td>885</td>\n",
       "      <td>746</td>\n",
       "      <td>613</td>\n",
       "      <td>497</td>\n",
       "      <td>472</td>\n",
       "      <td>325</td>\n",
       "    </tr>\n",
       "    <tr>\n",
       "      <th>Sat</th>\n",
       "      <td>375</td>\n",
       "      <td>301</td>\n",
       "      <td>263</td>\n",
       "      <td>260</td>\n",
       "      <td>224</td>\n",
       "      <td>231</td>\n",
       "      <td>257</td>\n",
       "      <td>391</td>\n",
       "      <td>459</td>\n",
       "      <td>640</td>\n",
       "      <td>...</td>\n",
       "      <td>789</td>\n",
       "      <td>796</td>\n",
       "      <td>848</td>\n",
       "      <td>757</td>\n",
       "      <td>778</td>\n",
       "      <td>696</td>\n",
       "      <td>628</td>\n",
       "      <td>572</td>\n",
       "      <td>506</td>\n",
       "      <td>467</td>\n",
       "    </tr>\n",
       "    <tr>\n",
       "      <th>Sun</th>\n",
       "      <td>383</td>\n",
       "      <td>306</td>\n",
       "      <td>286</td>\n",
       "      <td>268</td>\n",
       "      <td>242</td>\n",
       "      <td>240</td>\n",
       "      <td>300</td>\n",
       "      <td>402</td>\n",
       "      <td>483</td>\n",
       "      <td>620</td>\n",
       "      <td>...</td>\n",
       "      <td>684</td>\n",
       "      <td>691</td>\n",
       "      <td>663</td>\n",
       "      <td>714</td>\n",
       "      <td>670</td>\n",
       "      <td>655</td>\n",
       "      <td>537</td>\n",
       "      <td>461</td>\n",
       "      <td>415</td>\n",
       "      <td>330</td>\n",
       "    </tr>\n",
       "    <tr>\n",
       "      <th>Thu</th>\n",
       "      <td>278</td>\n",
       "      <td>202</td>\n",
       "      <td>233</td>\n",
       "      <td>159</td>\n",
       "      <td>182</td>\n",
       "      <td>203</td>\n",
       "      <td>362</td>\n",
       "      <td>570</td>\n",
       "      <td>777</td>\n",
       "      <td>828</td>\n",
       "      <td>...</td>\n",
       "      <td>876</td>\n",
       "      <td>969</td>\n",
       "      <td>935</td>\n",
       "      <td>1013</td>\n",
       "      <td>810</td>\n",
       "      <td>698</td>\n",
       "      <td>617</td>\n",
       "      <td>553</td>\n",
       "      <td>424</td>\n",
       "      <td>354</td>\n",
       "    </tr>\n",
       "  </tbody>\n",
       "</table>\n",
       "<p>5 rows × 24 columns</p>\n",
       "</div>"
      ],
      "text/plain": [
       "Hour          0    1    2    3    4    5    6    7    8    9   ...   14   15  \\\n",
       "Day of Week                                                    ...             \n",
       "Fri          275  235  191  175  201  194  372  598  742  752  ...  932  980   \n",
       "Mon          282  221  201  194  204  267  397  653  819  786  ...  869  913   \n",
       "Sat          375  301  263  260  224  231  257  391  459  640  ...  789  796   \n",
       "Sun          383  306  286  268  242  240  300  402  483  620  ...  684  691   \n",
       "Thu          278  202  233  159  182  203  362  570  777  828  ...  876  969   \n",
       "\n",
       "Hour           16    17   18   19   20   21   22   23  \n",
       "Day of Week                                            \n",
       "Fri          1039   980  820  696  667  559  514  474  \n",
       "Mon           989   997  885  746  613  497  472  325  \n",
       "Sat           848   757  778  696  628  572  506  467  \n",
       "Sun           663   714  670  655  537  461  415  330  \n",
       "Thu           935  1013  810  698  617  553  424  354  \n",
       "\n",
       "[5 rows x 24 columns]"
      ]
     },
     "execution_count": 61,
     "metadata": {},
     "output_type": "execute_result"
    }
   ],
   "source": [
    "dayHour = df.groupby(by=['Day of Week','Hour']).count()['Reason'].unstack()\n",
    "dayHour.head()"
   ]
  },
  {
   "cell_type": "markdown",
   "metadata": {},
   "source": [
    "Create a HeatMap using this new DataFrame."
   ]
  },
  {
   "cell_type": "code",
   "execution_count": 63,
   "metadata": {},
   "outputs": [
    {
     "data": {
      "text/plain": [
       "<matplotlib.axes._subplots.AxesSubplot at 0x1a1837c16d8>"
      ]
     },
     "execution_count": 63,
     "metadata": {},
     "output_type": "execute_result"
    },
    {
     "data": {
      "image/png": "[encoded data removed]",
      "text/plain": [
       "<Figure size 432x288 with 2 Axes>"
      ]
     },
     "metadata": {
      "needs_background": "light"
     },
     "output_type": "display_data"
    }
   ],
   "source": [
    "sns.heatmap(dayHour,linecolor='white',linewidths=1)"
   ]
  },
  {
   "cell_type": "markdown",
   "metadata": {},
   "source": [
    "Created a clustermap using this DataFrame."
   ]
  },
  {
   "cell_type": "code",
   "execution_count": 64,
   "metadata": {},
   "outputs": [
    {
     "data": {
      "text/plain": [
       "<seaborn.matrix.ClusterGrid at 0x1a1837dcbe0>"
      ]
     },
     "execution_count": 64,
     "metadata": {},
     "output_type": "execute_result"
    },
    {
     "data": {
      "image/png": "[encoded data removed]",
      "text/plain": [
       "<Figure size 720x720 with 4 Axes>"
      ]
     },
     "metadata": {
      "needs_background": "light"
     },
     "output_type": "display_data"
    }
   ],
   "source": [
    "sns.clustermap(dayHour)"
   ]
  },
  {
   "cell_type": "markdown",
   "metadata": {},
   "source": [
    "Repeated these same plots and operations, for a DataFrame that shows the Month as the column."
   ]
  },
  {
   "cell_type": "code",
   "execution_count": 67,
   "metadata": {},
   "outputs": [
    {
     "data": {
      "text/html": [
       "<div>\n",
       "<style scoped>\n",
       "    .dataframe tbody tr th:only-of-type {\n",
       "        vertical-align: middle;\n",
       "    }\n",
       "\n",
       "    .dataframe tbody tr th {\n",
       "        vertical-align: top;\n",
       "    }\n",
       "\n",
       "    .dataframe thead th {\n",
       "        text-align: right;\n",
       "    }\n",
       "</style>\n",
       "<table border=\"1\" class=\"dataframe\">\n",
       "  <thead>\n",
       "    <tr style=\"text-align: right;\">\n",
       "      <th>Month</th>\n",
       "      <th>1</th>\n",
       "      <th>2</th>\n",
       "      <th>3</th>\n",
       "      <th>4</th>\n",
       "      <th>5</th>\n",
       "      <th>6</th>\n",
       "      <th>7</th>\n",
       "      <th>8</th>\n",
       "      <th>12</th>\n",
       "    </tr>\n",
       "    <tr>\n",
       "      <th>Day of Week</th>\n",
       "      <th></th>\n",
       "      <th></th>\n",
       "      <th></th>\n",
       "      <th></th>\n",
       "      <th></th>\n",
       "      <th></th>\n",
       "      <th></th>\n",
       "      <th></th>\n",
       "      <th></th>\n",
       "    </tr>\n",
       "  </thead>\n",
       "  <tbody>\n",
       "    <tr>\n",
       "      <th>Fri</th>\n",
       "      <td>1970</td>\n",
       "      <td>1581</td>\n",
       "      <td>1525</td>\n",
       "      <td>1958</td>\n",
       "      <td>1730</td>\n",
       "      <td>1649</td>\n",
       "      <td>2045</td>\n",
       "      <td>1310</td>\n",
       "      <td>1065</td>\n",
       "    </tr>\n",
       "    <tr>\n",
       "      <th>Mon</th>\n",
       "      <td>1727</td>\n",
       "      <td>1964</td>\n",
       "      <td>1535</td>\n",
       "      <td>1598</td>\n",
       "      <td>1779</td>\n",
       "      <td>1617</td>\n",
       "      <td>1692</td>\n",
       "      <td>1511</td>\n",
       "      <td>1257</td>\n",
       "    </tr>\n",
       "    <tr>\n",
       "      <th>Sat</th>\n",
       "      <td>2291</td>\n",
       "      <td>1441</td>\n",
       "      <td>1266</td>\n",
       "      <td>1734</td>\n",
       "      <td>1444</td>\n",
       "      <td>1388</td>\n",
       "      <td>1695</td>\n",
       "      <td>1099</td>\n",
       "      <td>978</td>\n",
       "    </tr>\n",
       "    <tr>\n",
       "      <th>Sun</th>\n",
       "      <td>1960</td>\n",
       "      <td>1229</td>\n",
       "      <td>1102</td>\n",
       "      <td>1488</td>\n",
       "      <td>1424</td>\n",
       "      <td>1333</td>\n",
       "      <td>1672</td>\n",
       "      <td>1021</td>\n",
       "      <td>907</td>\n",
       "    </tr>\n",
       "    <tr>\n",
       "      <th>Thu</th>\n",
       "      <td>1584</td>\n",
       "      <td>1596</td>\n",
       "      <td>1900</td>\n",
       "      <td>1601</td>\n",
       "      <td>1590</td>\n",
       "      <td>2065</td>\n",
       "      <td>1646</td>\n",
       "      <td>1230</td>\n",
       "      <td>1266</td>\n",
       "    </tr>\n",
       "  </tbody>\n",
       "</table>\n",
       "</div>"
      ],
      "text/plain": [
       "Month          1     2     3     4     5     6     7     8     12\n",
       "Day of Week                                                      \n",
       "Fri          1970  1581  1525  1958  1730  1649  2045  1310  1065\n",
       "Mon          1727  1964  1535  1598  1779  1617  1692  1511  1257\n",
       "Sat          2291  1441  1266  1734  1444  1388  1695  1099   978\n",
       "Sun          1960  1229  1102  1488  1424  1333  1672  1021   907\n",
       "Thu          1584  1596  1900  1601  1590  2065  1646  1230  1266"
      ]
     },
     "execution_count": 67,
     "metadata": {},
     "output_type": "execute_result"
    }
   ],
   "source": [
    "dayMonth=df.groupby(by=['Day of Week','Month']).count()['Reason'].unstack()\n",
    "dayMonth.head()"
   ]
  },
  {
   "cell_type": "code",
   "execution_count": 68,
   "metadata": {},
   "outputs": [
    {
     "data": {
      "text/plain": [
       "<matplotlib.axes._subplots.AxesSubplot at 0x1a183bf3d30>"
      ]
     },
     "execution_count": 68,
     "metadata": {},
     "output_type": "execute_result"
    },
    {
     "data": {
      "image/png": "[encoded data removed]",
      "text/plain": [
       "<Figure size 432x288 with 2 Axes>"
      ]
     },
     "metadata": {
      "needs_background": "light"
     },
     "output_type": "display_data"
    }
   ],
   "source": [
    "sns.heatmap(dayMonth, linecolor='white',linewidths=1)"
   ]
  },
  {
   "cell_type": "code",
   "execution_count": 69,
   "metadata": {},
   "outputs": [
    {
     "data": {
      "text/plain": [
       "<seaborn.matrix.ClusterGrid at 0x1a1837dc6a0>"
      ]
     },
     "execution_count": 69,
     "metadata": {},
     "output_type": "execute_result"
    },
    {
     "data": {
      "image/png": "[encoded data removed]",
      "text/plain": [
       "<Figure size 720x720 with 4 Axes>"
      ]
     },
     "metadata": {
      "needs_background": "light"
     },
     "output_type": "display_data"
    }
   ],
   "source": [
    "sns.clustermap(dayMonth)"
   ]
  },
  {
   "cell_type": "markdown",
   "metadata": {
    "collapsed": true
   },
   "source": [
    "**Continue exploring the Data however you see fit!**\n",
    "# Great Job!"
   ]
  }
 ],
 "metadata": {
  "kernelspec": {
   "display_name": "Python 3",
   "language": "python",
   "name": "python3"
  },
  "language_info": {
   "codemirror_mode": {
    "name": "ipython",
    "version": 3
   },
   "file_extension": ".py",
   "mimetype": "text/x-python",
   "name": "python",
   "nbconvert_exporter": "python",
   "pygments_lexer": "ipython3",
   "version": "3.7.3"
  }
 },
 "nbformat": 4,
 "nbformat_minor": 1
}
